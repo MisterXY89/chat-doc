{
 "cells": [
  {
   "cell_type": "markdown",
   "metadata": {},
   "source": [
    "# Data Exploration"
   ]
  },
  {
   "cell_type": "code",
   "execution_count": 1,
   "metadata": {},
   "outputs": [
    {
     "name": "stdout",
     "output_type": "stream",
     "text": [
      "Collecting pandas\n",
      "  Using cached pandas-2.1.2-cp311-cp311-macosx_11_0_arm64.whl.metadata (18 kB)\n",
      "Collecting numpy\n",
      "  Using cached numpy-1.26.1-cp311-cp311-macosx_11_0_arm64.whl.metadata (115 kB)\n",
      "Collecting matplotlib\n",
      "  Using cached matplotlib-3.8.1-cp311-cp311-macosx_11_0_arm64.whl.metadata (5.8 kB)\n",
      "Collecting seaborn\n",
      "  Using cached seaborn-0.13.0-py3-none-any.whl.metadata (5.3 kB)\n",
      "Collecting datasets\n",
      "  Using cached datasets-2.14.6-py3-none-any.whl.metadata (19 kB)\n",
      "Requirement already satisfied: python-dateutil>=2.8.2 in /opt/homebrew/anaconda3/envs/adl/lib/python3.11/site-packages (from pandas) (2.8.2)\n",
      "Collecting pytz>=2020.1 (from pandas)\n",
      "  Using cached pytz-2023.3.post1-py2.py3-none-any.whl.metadata (22 kB)\n",
      "Collecting tzdata>=2022.1 (from pandas)\n",
      "  Using cached tzdata-2023.3-py2.py3-none-any.whl (341 kB)\n",
      "Collecting contourpy>=1.0.1 (from matplotlib)\n",
      "  Using cached contourpy-1.2.0-cp311-cp311-macosx_11_0_arm64.whl.metadata (5.8 kB)\n",
      "Collecting cycler>=0.10 (from matplotlib)\n",
      "  Using cached cycler-0.12.1-py3-none-any.whl.metadata (3.8 kB)\n",
      "Collecting fonttools>=4.22.0 (from matplotlib)\n",
      "  Using cached fonttools-4.44.0-cp311-cp311-macosx_10_9_universal2.whl.metadata (153 kB)\n",
      "Collecting kiwisolver>=1.3.1 (from matplotlib)\n",
      "  Using cached kiwisolver-1.4.5-cp311-cp311-macosx_11_0_arm64.whl.metadata (6.4 kB)\n",
      "Requirement already satisfied: packaging>=20.0 in /opt/homebrew/anaconda3/envs/adl/lib/python3.11/site-packages (from matplotlib) (23.2)\n",
      "Collecting pillow>=8 (from matplotlib)\n",
      "  Using cached Pillow-10.1.0-cp311-cp311-macosx_11_0_arm64.whl.metadata (9.5 kB)\n",
      "Collecting pyparsing>=2.3.1 (from matplotlib)\n",
      "  Using cached pyparsing-3.1.1-py3-none-any.whl.metadata (5.1 kB)\n",
      "Collecting pyarrow>=8.0.0 (from datasets)\n",
      "  Using cached pyarrow-14.0.1-cp311-cp311-macosx_11_0_arm64.whl.metadata (3.0 kB)\n",
      "Collecting dill<0.3.8,>=0.3.0 (from datasets)\n",
      "  Using cached dill-0.3.7-py3-none-any.whl.metadata (9.9 kB)\n",
      "Collecting requests>=2.19.0 (from datasets)\n",
      "  Using cached requests-2.31.0-py3-none-any.whl.metadata (4.6 kB)\n",
      "Collecting tqdm>=4.62.1 (from datasets)\n",
      "  Using cached tqdm-4.66.1-py3-none-any.whl.metadata (57 kB)\n",
      "Collecting xxhash (from datasets)\n",
      "  Using cached xxhash-3.4.1-cp311-cp311-macosx_11_0_arm64.whl.metadata (12 kB)\n",
      "Collecting multiprocess (from datasets)\n",
      "  Using cached multiprocess-0.70.15-py311-none-any.whl.metadata (7.2 kB)\n",
      "Collecting fsspec<=2023.10.0,>=2023.1.0 (from fsspec[http]<=2023.10.0,>=2023.1.0->datasets)\n",
      "  Using cached fsspec-2023.10.0-py3-none-any.whl.metadata (6.8 kB)\n",
      "Collecting aiohttp (from datasets)\n",
      "  Using cached aiohttp-3.8.6-cp311-cp311-macosx_11_0_arm64.whl.metadata (7.7 kB)\n",
      "Collecting huggingface-hub<1.0.0,>=0.14.0 (from datasets)\n",
      "  Using cached huggingface_hub-0.19.0-py3-none-any.whl.metadata (13 kB)\n",
      "Collecting pyyaml>=5.1 (from datasets)\n",
      "  Using cached PyYAML-6.0.1-cp311-cp311-macosx_11_0_arm64.whl.metadata (2.1 kB)\n",
      "Collecting attrs>=17.3.0 (from aiohttp->datasets)\n",
      "  Using cached attrs-23.1.0-py3-none-any.whl (61 kB)\n",
      "Collecting charset-normalizer<4.0,>=2.0 (from aiohttp->datasets)\n",
      "  Using cached charset_normalizer-3.3.2-cp311-cp311-macosx_11_0_arm64.whl.metadata (33 kB)\n",
      "Collecting multidict<7.0,>=4.5 (from aiohttp->datasets)\n",
      "  Using cached multidict-6.0.4-cp311-cp311-macosx_11_0_arm64.whl (29 kB)\n",
      "Collecting async-timeout<5.0,>=4.0.0a3 (from aiohttp->datasets)\n",
      "  Using cached async_timeout-4.0.3-py3-none-any.whl.metadata (4.2 kB)\n",
      "Collecting yarl<2.0,>=1.0 (from aiohttp->datasets)\n",
      "  Using cached yarl-1.9.2-cp311-cp311-macosx_11_0_arm64.whl (61 kB)\n",
      "Collecting frozenlist>=1.1.1 (from aiohttp->datasets)\n",
      "  Using cached frozenlist-1.4.0-cp311-cp311-macosx_11_0_arm64.whl.metadata (5.2 kB)\n",
      "Collecting aiosignal>=1.1.2 (from aiohttp->datasets)\n",
      "  Using cached aiosignal-1.3.1-py3-none-any.whl (7.6 kB)\n",
      "Collecting filelock (from huggingface-hub<1.0.0,>=0.14.0->datasets)\n",
      "  Downloading filelock-3.13.1-py3-none-any.whl.metadata (2.8 kB)\n",
      "Requirement already satisfied: typing-extensions>=3.7.4.3 in /opt/homebrew/anaconda3/envs/adl/lib/python3.11/site-packages (from huggingface-hub<1.0.0,>=0.14.0->datasets) (4.8.0)\n",
      "Requirement already satisfied: six>=1.5 in /opt/homebrew/anaconda3/envs/adl/lib/python3.11/site-packages (from python-dateutil>=2.8.2->pandas) (1.16.0)\n",
      "Collecting idna<4,>=2.5 (from requests>=2.19.0->datasets)\n",
      "  Using cached idna-3.4-py3-none-any.whl (61 kB)\n",
      "Collecting urllib3<3,>=1.21.1 (from requests>=2.19.0->datasets)\n",
      "  Using cached urllib3-2.0.7-py3-none-any.whl.metadata (6.6 kB)\n",
      "Collecting certifi>=2017.4.17 (from requests>=2.19.0->datasets)\n",
      "  Using cached certifi-2023.7.22-py3-none-any.whl.metadata (2.2 kB)\n",
      "Using cached pandas-2.1.2-cp311-cp311-macosx_11_0_arm64.whl (10.8 MB)\n",
      "Using cached numpy-1.26.1-cp311-cp311-macosx_11_0_arm64.whl (14.0 MB)\n",
      "Using cached matplotlib-3.8.1-cp311-cp311-macosx_11_0_arm64.whl (7.5 MB)\n",
      "Using cached seaborn-0.13.0-py3-none-any.whl (294 kB)\n",
      "Using cached datasets-2.14.6-py3-none-any.whl (493 kB)\n",
      "Using cached contourpy-1.2.0-cp311-cp311-macosx_11_0_arm64.whl (243 kB)\n",
      "Using cached cycler-0.12.1-py3-none-any.whl (8.3 kB)\n",
      "Using cached dill-0.3.7-py3-none-any.whl (115 kB)\n",
      "Using cached fonttools-4.44.0-cp311-cp311-macosx_10_9_universal2.whl (2.7 MB)\n",
      "Using cached fsspec-2023.10.0-py3-none-any.whl (166 kB)\n",
      "Using cached aiohttp-3.8.6-cp311-cp311-macosx_11_0_arm64.whl (343 kB)\n",
      "Using cached huggingface_hub-0.19.0-py3-none-any.whl (311 kB)\n",
      "Using cached kiwisolver-1.4.5-cp311-cp311-macosx_11_0_arm64.whl (66 kB)\n",
      "Using cached Pillow-10.1.0-cp311-cp311-macosx_11_0_arm64.whl (3.3 MB)\n",
      "Using cached pyarrow-14.0.1-cp311-cp311-macosx_11_0_arm64.whl (24.0 MB)\n",
      "Using cached pyparsing-3.1.1-py3-none-any.whl (103 kB)\n",
      "Using cached pytz-2023.3.post1-py2.py3-none-any.whl (502 kB)\n",
      "Using cached PyYAML-6.0.1-cp311-cp311-macosx_11_0_arm64.whl (167 kB)\n",
      "Using cached requests-2.31.0-py3-none-any.whl (62 kB)\n",
      "Using cached tqdm-4.66.1-py3-none-any.whl (78 kB)\n",
      "Using cached multiprocess-0.70.15-py311-none-any.whl (135 kB)\n",
      "Using cached xxhash-3.4.1-cp311-cp311-macosx_11_0_arm64.whl (30 kB)\n",
      "Using cached async_timeout-4.0.3-py3-none-any.whl (5.7 kB)\n",
      "Using cached certifi-2023.7.22-py3-none-any.whl (158 kB)\n",
      "Using cached charset_normalizer-3.3.2-cp311-cp311-macosx_11_0_arm64.whl (118 kB)\n",
      "Using cached frozenlist-1.4.0-cp311-cp311-macosx_11_0_arm64.whl (46 kB)\n",
      "Using cached urllib3-2.0.7-py3-none-any.whl (124 kB)\n",
      "Downloading filelock-3.13.1-py3-none-any.whl (11 kB)\n",
      "Installing collected packages: pytz, xxhash, urllib3, tzdata, tqdm, pyyaml, pyparsing, pillow, numpy, multidict, kiwisolver, idna, fsspec, frozenlist, fonttools, filelock, dill, cycler, charset-normalizer, certifi, attrs, async-timeout, yarl, requests, pyarrow, pandas, multiprocess, contourpy, aiosignal, matplotlib, huggingface-hub, aiohttp, seaborn, datasets\n",
      "Successfully installed aiohttp-3.8.6 aiosignal-1.3.1 async-timeout-4.0.3 attrs-23.1.0 certifi-2023.7.22 charset-normalizer-3.3.2 contourpy-1.2.0 cycler-0.12.1 datasets-2.14.6 dill-0.3.7 filelock-3.13.1 fonttools-4.44.0 frozenlist-1.4.0 fsspec-2023.10.0 huggingface-hub-0.19.0 idna-3.4 kiwisolver-1.4.5 matplotlib-3.8.1 multidict-6.0.4 multiprocess-0.70.15 numpy-1.26.1 pandas-2.1.2 pillow-10.1.0 pyarrow-14.0.1 pyparsing-3.1.1 pytz-2023.3.post1 pyyaml-6.0.1 requests-2.31.0 seaborn-0.13.0 tqdm-4.66.1 tzdata-2023.3 urllib3-2.0.7 xxhash-3.4.1 yarl-1.9.2\n",
      "Note: you may need to restart the kernel to use updated packages.\n"
     ]
    }
   ],
   "source": [
    "%pip install -U pandas numpy matplotlib seaborn datasets"
   ]
  },
  {
   "cell_type": "code",
   "execution_count": 17,
   "metadata": {},
   "outputs": [],
   "source": [
    "import re\n",
    "import numpy as np\n",
    "import pandas as pd\n",
    "\n",
    "import matplotlib.pyplot as plt\n",
    "import seaborn as sns"
   ]
  },
  {
   "cell_type": "code",
   "execution_count": 3,
   "metadata": {},
   "outputs": [
    {
     "name": "stderr",
     "output_type": "stream",
     "text": [
      "/opt/homebrew/anaconda3/envs/adl/lib/python3.11/site-packages/tqdm/auto.py:21: TqdmWarning: IProgress not found. Please update jupyter and ipywidgets. See https://ipywidgets.readthedocs.io/en/stable/user_install.html\n",
      "  from .autonotebook import tqdm as notebook_tqdm\n"
     ]
    }
   ],
   "source": [
    "from datasets import load_dataset"
   ]
  },
  {
   "cell_type": "markdown",
   "metadata": {},
   "source": [
    "## Main Exploration"
   ]
  },
  {
   "cell_type": "markdown",
   "metadata": {},
   "source": [
    "### Data Loading"
   ]
  },
  {
   "cell_type": "code",
   "execution_count": 4,
   "metadata": {},
   "outputs": [
    {
     "name": "stderr",
     "output_type": "stream",
     "text": [
      "/opt/homebrew/anaconda3/envs/adl/lib/python3.11/site-packages/datasets/table.py:1421: FutureWarning: promote has been superseded by mode='default'.\n",
      "  table = cls._concat_blocks(blocks, axis=0)\n"
     ]
    }
   ],
   "source": [
    "raw_dataset = load_dataset(\"zhengyun21/PMC-Patients\")"
   ]
  },
  {
   "cell_type": "code",
   "execution_count": 5,
   "metadata": {},
   "outputs": [
    {
     "data": {
      "text/plain": [
       "dict_keys(['train'])"
      ]
     },
     "execution_count": 5,
     "metadata": {},
     "output_type": "execute_result"
    }
   ],
   "source": [
    "raw_dataset.keys()"
   ]
  },
  {
   "cell_type": "code",
   "execution_count": 6,
   "metadata": {},
   "outputs": [],
   "source": [
    "raw_dataset = raw_dataset['train']"
   ]
  },
  {
   "cell_type": "code",
   "execution_count": 7,
   "metadata": {},
   "outputs": [],
   "source": [
    "raw_df = raw_dataset.to_pandas()"
   ]
  },
  {
   "cell_type": "markdown",
   "metadata": {},
   "source": [
    "### Inspection"
   ]
  },
  {
   "cell_type": "markdown",
   "metadata": {},
   "source": [
    "We start off by looking at basic information about the data, such as the number of rows and columns, the data types of the columns, and the number of null values in each column."
   ]
  },
  {
   "cell_type": "code",
   "execution_count": 8,
   "metadata": {},
   "outputs": [
    {
     "data": {
      "text/html": [
       "<div>\n",
       "<style scoped>\n",
       "    .dataframe tbody tr th:only-of-type {\n",
       "        vertical-align: middle;\n",
       "    }\n",
       "\n",
       "    .dataframe tbody tr th {\n",
       "        vertical-align: top;\n",
       "    }\n",
       "\n",
       "    .dataframe thead th {\n",
       "        text-align: right;\n",
       "    }\n",
       "</style>\n",
       "<table border=\"1\" class=\"dataframe\">\n",
       "  <thead>\n",
       "    <tr style=\"text-align: right;\">\n",
       "      <th></th>\n",
       "      <th>patient_id</th>\n",
       "      <th>patient_uid</th>\n",
       "      <th>PMID</th>\n",
       "      <th>file_path</th>\n",
       "      <th>title</th>\n",
       "      <th>patient</th>\n",
       "      <th>age</th>\n",
       "      <th>gender</th>\n",
       "      <th>relevant_articles</th>\n",
       "      <th>similar_patients</th>\n",
       "    </tr>\n",
       "  </thead>\n",
       "  <tbody>\n",
       "    <tr>\n",
       "      <th>0</th>\n",
       "      <td>0</td>\n",
       "      <td>7665777-1</td>\n",
       "      <td>33492400</td>\n",
       "      <td>comm/PMC007xxxxxx/PMC7665777.xml</td>\n",
       "      <td>Early Physical Therapist Interventions for Pat...</td>\n",
       "      <td>This 60-year-old male was hospitalized due to ...</td>\n",
       "      <td>[[60.0, 'year']]</td>\n",
       "      <td>M</td>\n",
       "      <td>{'32320506': 1, '32293716': 1, '23219649': 1, ...</td>\n",
       "      <td>{'7665777-2': 2, '7665777-3': 2, '7665777-4': ...</td>\n",
       "    </tr>\n",
       "    <tr>\n",
       "      <th>1</th>\n",
       "      <td>1</td>\n",
       "      <td>7665777-2</td>\n",
       "      <td>33492400</td>\n",
       "      <td>comm/PMC007xxxxxx/PMC7665777.xml</td>\n",
       "      <td>Early Physical Therapist Interventions for Pat...</td>\n",
       "      <td>A 39-year-old man was hospitalized due to an i...</td>\n",
       "      <td>[[39.0, 'year']]</td>\n",
       "      <td>M</td>\n",
       "      <td>{'32320506': 1, '32293716': 1, '23219649': 1, ...</td>\n",
       "      <td>{'7665777-1': 2, '7665777-3': 2, '7665777-4': ...</td>\n",
       "    </tr>\n",
       "    <tr>\n",
       "      <th>2</th>\n",
       "      <td>2</td>\n",
       "      <td>7665777-3</td>\n",
       "      <td>33492400</td>\n",
       "      <td>comm/PMC007xxxxxx/PMC7665777.xml</td>\n",
       "      <td>Early Physical Therapist Interventions for Pat...</td>\n",
       "      <td>One week after a positive COVID-19 result this...</td>\n",
       "      <td>[[57.0, 'year']]</td>\n",
       "      <td>M</td>\n",
       "      <td>{'32320506': 1, '32293716': 1, '23219649': 1, ...</td>\n",
       "      <td>{'7665777-1': 2, '7665777-2': 2, '7665777-4': ...</td>\n",
       "    </tr>\n",
       "    <tr>\n",
       "      <th>3</th>\n",
       "      <td>3</td>\n",
       "      <td>7665777-4</td>\n",
       "      <td>33492400</td>\n",
       "      <td>comm/PMC007xxxxxx/PMC7665777.xml</td>\n",
       "      <td>Early Physical Therapist Interventions for Pat...</td>\n",
       "      <td>This 69-year-old male was admitted to the ICU ...</td>\n",
       "      <td>[[69.0, 'year']]</td>\n",
       "      <td>M</td>\n",
       "      <td>{'32320506': 1, '32293716': 1, '23219649': 1, ...</td>\n",
       "      <td>{'7665777-1': 2, '7665777-2': 2, '7665777-3': ...</td>\n",
       "    </tr>\n",
       "    <tr>\n",
       "      <th>4</th>\n",
       "      <td>4</td>\n",
       "      <td>7665777-5</td>\n",
       "      <td>33492400</td>\n",
       "      <td>comm/PMC007xxxxxx/PMC7665777.xml</td>\n",
       "      <td>Early Physical Therapist Interventions for Pat...</td>\n",
       "      <td>This 57-year-old male was admitted to the ICU ...</td>\n",
       "      <td>[[57.0, 'year']]</td>\n",
       "      <td>M</td>\n",
       "      <td>{'32320506': 1, '32293716': 1, '23219649': 1, ...</td>\n",
       "      <td>{'7665777-1': 2, '7665777-2': 2, '7665777-3': ...</td>\n",
       "    </tr>\n",
       "  </tbody>\n",
       "</table>\n",
       "</div>"
      ],
      "text/plain": [
       "   patient_id patient_uid      PMID                         file_path  \\\n",
       "0           0   7665777-1  33492400  comm/PMC007xxxxxx/PMC7665777.xml   \n",
       "1           1   7665777-2  33492400  comm/PMC007xxxxxx/PMC7665777.xml   \n",
       "2           2   7665777-3  33492400  comm/PMC007xxxxxx/PMC7665777.xml   \n",
       "3           3   7665777-4  33492400  comm/PMC007xxxxxx/PMC7665777.xml   \n",
       "4           4   7665777-5  33492400  comm/PMC007xxxxxx/PMC7665777.xml   \n",
       "\n",
       "                                               title  \\\n",
       "0  Early Physical Therapist Interventions for Pat...   \n",
       "1  Early Physical Therapist Interventions for Pat...   \n",
       "2  Early Physical Therapist Interventions for Pat...   \n",
       "3  Early Physical Therapist Interventions for Pat...   \n",
       "4  Early Physical Therapist Interventions for Pat...   \n",
       "\n",
       "                                             patient               age gender  \\\n",
       "0  This 60-year-old male was hospitalized due to ...  [[60.0, 'year']]      M   \n",
       "1  A 39-year-old man was hospitalized due to an i...  [[39.0, 'year']]      M   \n",
       "2  One week after a positive COVID-19 result this...  [[57.0, 'year']]      M   \n",
       "3  This 69-year-old male was admitted to the ICU ...  [[69.0, 'year']]      M   \n",
       "4  This 57-year-old male was admitted to the ICU ...  [[57.0, 'year']]      M   \n",
       "\n",
       "                                   relevant_articles  \\\n",
       "0  {'32320506': 1, '32293716': 1, '23219649': 1, ...   \n",
       "1  {'32320506': 1, '32293716': 1, '23219649': 1, ...   \n",
       "2  {'32320506': 1, '32293716': 1, '23219649': 1, ...   \n",
       "3  {'32320506': 1, '32293716': 1, '23219649': 1, ...   \n",
       "4  {'32320506': 1, '32293716': 1, '23219649': 1, ...   \n",
       "\n",
       "                                    similar_patients  \n",
       "0  {'7665777-2': 2, '7665777-3': 2, '7665777-4': ...  \n",
       "1  {'7665777-1': 2, '7665777-3': 2, '7665777-4': ...  \n",
       "2  {'7665777-1': 2, '7665777-2': 2, '7665777-4': ...  \n",
       "3  {'7665777-1': 2, '7665777-2': 2, '7665777-3': ...  \n",
       "4  {'7665777-1': 2, '7665777-2': 2, '7665777-3': ...  "
      ]
     },
     "execution_count": 8,
     "metadata": {},
     "output_type": "execute_result"
    }
   ],
   "source": [
    "raw_df.head()"
   ]
  },
  {
   "cell_type": "code",
   "execution_count": 9,
   "metadata": {},
   "outputs": [],
   "source": [
    "def inspect(df_):\n",
    "\n",
    "    print(\n",
    "        f\"The dataset contains: \\n\\t--> {df_.shape[0]} rows \\n\\t--> {df_.shape[1]} columns.\"    \n",
    "    )\n",
    "\n",
    "    print(\n",
    "        f\"The columns are: \\n\\t--> {df_.columns.to_list()}\\n\"\n",
    "    )\n",
    "\n",
    "    print(\n",
    "        df_.info()\n",
    "    )\n",
    "\n",
    "    for col_name in df_.columns.to_list():\n",
    "        # get the top-3 most frequent values\n",
    "        top_3 = df_[col_name].value_counts().head(3)\n",
    "        # cut of for easier readings\n",
    "        top_3 = top_3.apply(lambda x: str(x)[:50])\n",
    "\n",
    "        print(f\"Column: {col_name}\")\n",
    "        print(f\"Top-3 values:\\n{top_3}\\n\")\n",
    "\n"
   ]
  },
  {
   "cell_type": "markdown",
   "metadata": {},
   "source": [
    "We start of by doing a general inspection using the function from above:"
   ]
  },
  {
   "cell_type": "code",
   "execution_count": 10,
   "metadata": {},
   "outputs": [
    {
     "data": {
      "text/html": [
       "<div>\n",
       "<style scoped>\n",
       "    .dataframe tbody tr th:only-of-type {\n",
       "        vertical-align: middle;\n",
       "    }\n",
       "\n",
       "    .dataframe tbody tr th {\n",
       "        vertical-align: top;\n",
       "    }\n",
       "\n",
       "    .dataframe thead th {\n",
       "        text-align: right;\n",
       "    }\n",
       "</style>\n",
       "<table border=\"1\" class=\"dataframe\">\n",
       "  <thead>\n",
       "    <tr style=\"text-align: right;\">\n",
       "      <th></th>\n",
       "      <th>patient_id</th>\n",
       "      <th>patient_uid</th>\n",
       "      <th>PMID</th>\n",
       "      <th>file_path</th>\n",
       "      <th>title</th>\n",
       "      <th>patient</th>\n",
       "      <th>age</th>\n",
       "      <th>gender</th>\n",
       "      <th>relevant_articles</th>\n",
       "      <th>similar_patients</th>\n",
       "    </tr>\n",
       "  </thead>\n",
       "  <tbody>\n",
       "    <tr>\n",
       "      <th>0</th>\n",
       "      <td>0</td>\n",
       "      <td>7665777-1</td>\n",
       "      <td>33492400</td>\n",
       "      <td>comm/PMC007xxxxxx/PMC7665777.xml</td>\n",
       "      <td>Early Physical Therapist Interventions for Pat...</td>\n",
       "      <td>This 60-year-old male was hospitalized due to ...</td>\n",
       "      <td>[[60.0, 'year']]</td>\n",
       "      <td>M</td>\n",
       "      <td>{'32320506': 1, '32293716': 1, '23219649': 1, ...</td>\n",
       "      <td>{'7665777-2': 2, '7665777-3': 2, '7665777-4': ...</td>\n",
       "    </tr>\n",
       "    <tr>\n",
       "      <th>1</th>\n",
       "      <td>1</td>\n",
       "      <td>7665777-2</td>\n",
       "      <td>33492400</td>\n",
       "      <td>comm/PMC007xxxxxx/PMC7665777.xml</td>\n",
       "      <td>Early Physical Therapist Interventions for Pat...</td>\n",
       "      <td>A 39-year-old man was hospitalized due to an i...</td>\n",
       "      <td>[[39.0, 'year']]</td>\n",
       "      <td>M</td>\n",
       "      <td>{'32320506': 1, '32293716': 1, '23219649': 1, ...</td>\n",
       "      <td>{'7665777-1': 2, '7665777-3': 2, '7665777-4': ...</td>\n",
       "    </tr>\n",
       "    <tr>\n",
       "      <th>2</th>\n",
       "      <td>2</td>\n",
       "      <td>7665777-3</td>\n",
       "      <td>33492400</td>\n",
       "      <td>comm/PMC007xxxxxx/PMC7665777.xml</td>\n",
       "      <td>Early Physical Therapist Interventions for Pat...</td>\n",
       "      <td>One week after a positive COVID-19 result this...</td>\n",
       "      <td>[[57.0, 'year']]</td>\n",
       "      <td>M</td>\n",
       "      <td>{'32320506': 1, '32293716': 1, '23219649': 1, ...</td>\n",
       "      <td>{'7665777-1': 2, '7665777-2': 2, '7665777-4': ...</td>\n",
       "    </tr>\n",
       "    <tr>\n",
       "      <th>3</th>\n",
       "      <td>3</td>\n",
       "      <td>7665777-4</td>\n",
       "      <td>33492400</td>\n",
       "      <td>comm/PMC007xxxxxx/PMC7665777.xml</td>\n",
       "      <td>Early Physical Therapist Interventions for Pat...</td>\n",
       "      <td>This 69-year-old male was admitted to the ICU ...</td>\n",
       "      <td>[[69.0, 'year']]</td>\n",
       "      <td>M</td>\n",
       "      <td>{'32320506': 1, '32293716': 1, '23219649': 1, ...</td>\n",
       "      <td>{'7665777-1': 2, '7665777-2': 2, '7665777-3': ...</td>\n",
       "    </tr>\n",
       "    <tr>\n",
       "      <th>4</th>\n",
       "      <td>4</td>\n",
       "      <td>7665777-5</td>\n",
       "      <td>33492400</td>\n",
       "      <td>comm/PMC007xxxxxx/PMC7665777.xml</td>\n",
       "      <td>Early Physical Therapist Interventions for Pat...</td>\n",
       "      <td>This 57-year-old male was admitted to the ICU ...</td>\n",
       "      <td>[[57.0, 'year']]</td>\n",
       "      <td>M</td>\n",
       "      <td>{'32320506': 1, '32293716': 1, '23219649': 1, ...</td>\n",
       "      <td>{'7665777-1': 2, '7665777-2': 2, '7665777-3': ...</td>\n",
       "    </tr>\n",
       "  </tbody>\n",
       "</table>\n",
       "</div>"
      ],
      "text/plain": [
       "   patient_id patient_uid      PMID                         file_path  \\\n",
       "0           0   7665777-1  33492400  comm/PMC007xxxxxx/PMC7665777.xml   \n",
       "1           1   7665777-2  33492400  comm/PMC007xxxxxx/PMC7665777.xml   \n",
       "2           2   7665777-3  33492400  comm/PMC007xxxxxx/PMC7665777.xml   \n",
       "3           3   7665777-4  33492400  comm/PMC007xxxxxx/PMC7665777.xml   \n",
       "4           4   7665777-5  33492400  comm/PMC007xxxxxx/PMC7665777.xml   \n",
       "\n",
       "                                               title  \\\n",
       "0  Early Physical Therapist Interventions for Pat...   \n",
       "1  Early Physical Therapist Interventions for Pat...   \n",
       "2  Early Physical Therapist Interventions for Pat...   \n",
       "3  Early Physical Therapist Interventions for Pat...   \n",
       "4  Early Physical Therapist Interventions for Pat...   \n",
       "\n",
       "                                             patient               age gender  \\\n",
       "0  This 60-year-old male was hospitalized due to ...  [[60.0, 'year']]      M   \n",
       "1  A 39-year-old man was hospitalized due to an i...  [[39.0, 'year']]      M   \n",
       "2  One week after a positive COVID-19 result this...  [[57.0, 'year']]      M   \n",
       "3  This 69-year-old male was admitted to the ICU ...  [[69.0, 'year']]      M   \n",
       "4  This 57-year-old male was admitted to the ICU ...  [[57.0, 'year']]      M   \n",
       "\n",
       "                                   relevant_articles  \\\n",
       "0  {'32320506': 1, '32293716': 1, '23219649': 1, ...   \n",
       "1  {'32320506': 1, '32293716': 1, '23219649': 1, ...   \n",
       "2  {'32320506': 1, '32293716': 1, '23219649': 1, ...   \n",
       "3  {'32320506': 1, '32293716': 1, '23219649': 1, ...   \n",
       "4  {'32320506': 1, '32293716': 1, '23219649': 1, ...   \n",
       "\n",
       "                                    similar_patients  \n",
       "0  {'7665777-2': 2, '7665777-3': 2, '7665777-4': ...  \n",
       "1  {'7665777-1': 2, '7665777-3': 2, '7665777-4': ...  \n",
       "2  {'7665777-1': 2, '7665777-2': 2, '7665777-4': ...  \n",
       "3  {'7665777-1': 2, '7665777-2': 2, '7665777-3': ...  \n",
       "4  {'7665777-1': 2, '7665777-2': 2, '7665777-3': ...  "
      ]
     },
     "execution_count": 10,
     "metadata": {},
     "output_type": "execute_result"
    }
   ],
   "source": [
    "raw_df.head()"
   ]
  },
  {
   "cell_type": "code",
   "execution_count": 11,
   "metadata": {},
   "outputs": [
    {
     "name": "stdout",
     "output_type": "stream",
     "text": [
      "The dataset contains: \n",
      "\t--> 167034 rows \n",
      "\t--> 10 columns.\n",
      "The columns are: \n",
      "\t--> ['patient_id', 'patient_uid', 'PMID', 'file_path', 'title', 'patient', 'age', 'gender', 'relevant_articles', 'similar_patients']\n",
      "\n",
      "<class 'pandas.core.frame.DataFrame'>\n",
      "RangeIndex: 167034 entries, 0 to 167033\n",
      "Data columns (total 10 columns):\n",
      " #   Column             Non-Null Count   Dtype \n",
      "---  ------             --------------   ----- \n",
      " 0   patient_id         167034 non-null  int64 \n",
      " 1   patient_uid        167034 non-null  object\n",
      " 2   PMID               167034 non-null  int64 \n",
      " 3   file_path          167034 non-null  object\n",
      " 4   title              167034 non-null  object\n",
      " 5   patient            167034 non-null  object\n",
      " 6   age                167034 non-null  object\n",
      " 7   gender             167034 non-null  object\n",
      " 8   relevant_articles  167034 non-null  object\n",
      " 9   similar_patients   167034 non-null  object\n",
      "dtypes: int64(2), object(8)\n",
      "memory usage: 12.7+ MB\n",
      "None\n",
      "Column: patient_id\n",
      "Top-3 values:\n",
      "patient_id\n",
      "0         1\n",
      "111369    1\n",
      "111351    1\n",
      "Name: count, dtype: object\n",
      "\n",
      "Column: patient_uid\n",
      "Top-3 values:\n",
      "patient_uid\n",
      "7665777-1    1\n",
      "8461117-1    1\n",
      "8460948-1    1\n",
      "Name: count, dtype: object\n",
      "\n",
      "Column: PMID\n",
      "Top-3 values:\n",
      "PMID\n",
      "34440452    34\n",
      "33890986    21\n",
      "34106596    16\n",
      "Name: count, dtype: object\n",
      "\n",
      "Column: file_path\n",
      "Top-3 values:\n",
      "file_path\n",
      "comm/PMC008xxxxxx/PMC8391342.xml       34\n",
      "noncomm/PMC008xxxxxx/PMC8077172.xml    21\n",
      "noncomm/PMC008xxxxxx/PMC8133044.xml    16\n",
      "Name: count, dtype: object\n",
      "\n",
      "Column: title\n",
      "Top-3 values:\n",
      "title\n",
      "Benefits of Exome Sequencing in Children with Suspected Isolated Hearing Loss                            34\n",
      "Case for diagnosis                                                                                       33\n",
      "Preexisting autoantibodies to type I IFNs underlie critical COVID-19 pneumonia in patients with APS-1    21\n",
      "Name: count, dtype: object\n",
      "\n",
      "Column: patient\n",
      "Top-3 values:\n",
      "patient\n",
      "This 60-year-old male was hospitalized due to moderate ARDS from COVID-19 with symptoms of fever, dry cough, and dyspnea. We encountered several difficulties during physical therapy on the acute ward. First, any change of position or deep breathing triggered coughing attacks that induced oxygen desaturation and dyspnea. To avoid rapid deterioration and respiratory failure, we instructed and performed position changes very slowly and step-by-step. In this way, a position change to the 135° prone position () took around 30 minutes. This approach was well tolerated and increased oxygen saturation, for example, on day 5 with 6 L/min of oxygen from 93% to 97%. Second, we had to adapt the breathing exercises to avoid prolonged coughing and oxygen desaturation. Accordingly, we instructed the patient to stop every deep breath before the need to cough and to hold inspiration for better air distribution. In this manner, the patient performed the breathing exercises well and managed to increase his oxygen saturation. Third, the patient had difficulty maintaining sufficient oxygen saturation during physical activity. However, with close monitoring and frequent breaks, he managed to perform strength and walking exercises at a low level without any significant deoxygenation. Exercise progression was low on days 1 to 5, but then increased daily until hospital discharge to a rehabilitation clinic on day 10.                                                                                                                                                                                                                                                                                                                                                                                                                                                                                                                                                                                                                                                                                                                                                                                                                                                                                                                                                                                                                                                                                                                                                                                                                                                                                                                                                                                                                                                                                                                                                                                                                                                                                                                                                                                                                                                                                                                                                                                                                                                                                                                                                                                                                                                                                                                                                                                                                                                                                                                                                                                                                                                                                                                                                                                                                                                                                                                                                                                                                                                                                                                                                                                                                                                                                                                                                                                                                                                                                                                                                                                                                                                                                                                                                                                                                                             1\n",
      "An unconscious 66-year-old woman, with five previous suicide attempts, was brought by ambulance to the Toxicology Clinic. Her medical history showed regular rheumatologist check-ups with reference blood laboratory findings and last psychiatrist consultation 10 years ago, rare alcohol consumption and general good physical condition. Her regular medication included enalapril, methotrexate, folic acid, diclofenac, lansoprazole, Vit D3, cholecalciferol, calcium-carbonate and 5-hydroxytryptophane. Occasionally she used Alprazolam a 0.25 mg.\\nAt admission, she was in a coma, with blood pressure 115/70 mm Hg, heart rate 85/min, oxygen saturation (SaO) 97% on room air, temperature 36.0°C, tachypnoeic, bilateral miosis, with fingers in ulnar deviation and absent reflexes, discrete pretibial oedema bilateral. No clonus was registered, nor any extrapyramidal signs. From her transfer to the intensive care unit, her condition deteriorated developing hypotension 70/50 mm Hg with a decrease in SaO measured by pulse oximetry at 85% and pulmonary oedema. The physical examination showed miosis, no pupillary reflexes on light (generally reactive pupils are indicative of a toxic coma), no nuchal rigidity, absent limb’s reflexes GCS 3, pulmonary crackles bilaterally and respiration rate 25–30/min. The patient was non-invasively monitored.\\nThe laboratory findings were in reference range except discrete deviation in serum glucose, sodium, potassium, and urine ketones and proteins (). Calculated glomerular filtration rate (GFR) was 92.9 mL/min/1.73 m2 (MDRD equation-Levy) and D-dimer (DD) was 3254.36 ng/mL. Electrocardiogram (ECG) showed heart rate (HR) 80/min, normal axis.\\nUnder symptomatic treatment (pulmonary aspiration, intravenous colloids 500 mL, NaCl 0.9% 500 mL, oxygen support with nasal cannula 4–5 L/min and amp furosemide 10 mg i.v.), the patient achieved a stable hemodynamic condition with an increase in blood pressure (BP) up to 110/70 mm Hg, HR 110–120/min and urine output of about 3.5 mL/min with persistence of coma and absence of reflexes. The toxicological screening on the urine confirmed low benzodiazepine levels (477 ng/mL) (semi-quantitative enzyme-linked immunosorbent assay (ELISA) method, Beckman Coulter, cut-off values 200 ng/mL), excluded opiates, tramadol, methadone, cannabis, but 5-HTP and its metabolites could not be assessed due to lack of appropriate laboratory test. Soon she reexperienced hypotensive reaction at 80/60 mm Hg, drop of SaO 85%, tachypnoea with rate up to 35–40/min and shallow respirations. At that time, her family phoned us from home indicating that about 250 mL of 70% ethanol-disinfectants was missing. Blood alcohol concentration (BAC) was 526 mg/dL (5.26 g/L) (AU480 chemistry analyser, Beckman Coulter). The results from the Arterial Blood Gas Analysis (ABGA) confirmed metabolic acidosis (). Calculated osmolality taking in consideration the measured ethanol concentrations was 403–421 (reference = 285–295) mOsm/kg and DD was 3254 ng/mL (<660 ng/mL referent range with age adjustment). The anaesthesiology consultant recommended patient monitoring under mask-oxygen, without mechanical ventilation at this stage. The treatment continued with standard protocol (5% dextrose in normal saline (D5 NS) 100 mL/h, potassium 10 mmoL/h, thiamine a 100 mg i.v. oxygen 4–5 L/min) for the next couple of hours with persistent areflex coma and oscillation of BP with an average value of 90/60 mm Hg. Her polymerase chain reaction (PCR) test for SARS-COV-2 was negative.\\nTaking into consideration her hemodynamic instability, age with reduced biotransformation activity, risk of fluids overload due to aggressive intravenous fluids treatment and immunocompromised condition, with high susceptibility to infections, we reassessed her treatment and decided to use haemodialysis (HD) as a faster elimination procedure.\\nHD was performed in consultation with a nephrologist through a femoral catheter and discontinued after two and a half hours because of increased blood coagulation despite administration of nadroparin 0.6 mL (5700IE) during HD. She became stuporous with restoration of reflexes. Post-dialysis alcoholaemia was 250 mg/dL (2.5 g/L), ABGA was corrected and DD increased (). Glycemia was controlled every 4 h, with lowest recorded values of 5.0 mmol/L. Further treatment consisted of D5NS 100 mL/h, amp ceftriaxone 2.0 g, amp famotidine 20 mg i.v. tid, nadroparin a 0.6 mL tid, for the next 12 h. The next morning level of consciousness (LOC) improved to mild somnolence, but pronounced depressed mood, and alcoholaemia was 104 mg/dL (1.04 g/L). No gastric discomfort, haematemesis or reduction in haemogram were observed. When she became conscious, she denied taking more than regular 5-HTP tablets. The specific therapy for rheumatoid arthritis (RA) was discontinued during the 48 h intensive treatment. She was transferred to the psychiatric clinic in stable hemodynamic and mental status, recommended to use LMWH (low molecular weight heparin) for the next 7 days, control haemostatic parameters and continue regular therapy.    1\n",
      "An 83-year-old bedridden woman with a history of cerebral infarction, diabetes mellitus, hypertension, and urinary tract infections presented after 3 days of low-grade fever and dark urine. Medications included aspirin, levetiracetam, furosemide, and insulin glargine. She had no history of alcohol use or smoking.\\nUpon presentation, the patient was in mild distress. Vital signs were stable, with a temperature of 36.6°C, blood pressure of 144/70 mm Hg, heart rate of 84 bpm, respiratory rate of 18 breaths per minute, and saturation of 93% on room air. Physical examination was unremarkable, with no abdominal tenderness or Murphy's sign. Laboratory results revealed elevated hepatobiliary enzymes (total bilirubin of 2.1 mg/dL, aspartate aminotransferase of 367 U/L, alanine aminotransferase of 525 U/L, alkaline phosphatase of 443 U/L, and gamma-glutamyl transferase of 339 U/L) with a slight increase in C-reactive protein (21.9 mg/L). No clear signs of bile duct obstruction could be identified on ultrasonography and CT with contrast.\\nThe patient was admitted with the clinical diagnosis of acute cholangitis. ERCP was performed on the same day. After multiple unintended guidewire advancement into the pancreatic duct, endoscopic pancreatic sphincterotomy was performed using CleverCut 3V (Olympus Medical Systems, Tokyo, Japan). Successful bile duct cannulation was achieved. A small common bile duct stone was removed with a stone extraction balloon. Epinephrine was injected to achieve hemostasis following minor bleeding after stone extraction. A 7-Fr, 10-cm pigtail-type plastic biliary stent and a 5-Fr, 5-cm straight plastic pancreatic stent were placed for prophylaxis against bile duct stone recurrence and PEP (Fig. ). The post-procedural course was uneventful, and the patient was discharged 4 days later.\\nAfter missing several appointments, the patient returned 2 months later for plastic stent removal. She was in her normal state of health. Both plastic stents were removed uneventfully with a forward-viewing esophagogastroduodenoscope (GIF-H290; Olympus). The pancreatic stent was removed first, followed by the biliary stent, using Rat Tooth Alligator Jaw forceps (MODEL FG-42L-1; Olympus) (Fig. ).\\nThe patient returned to the hospital 3 h later, complaining of a fever of 39.4°C and abdominal pain. Laboratory testing revealed a white blood cell count of 14,200/mm3 and a pancreatic amylase of 990 U/L. CT with contrast revealed slight inflammation in the pancreatic tail, consistent with mild acute pancreatitis (Fig. ). A 10-mm cystic structure consistent with intraductal papillary mucinous neoplasm was observed near the ampulla, but remained largely unchanged from previous studies (Fig. ). No biliary or pancreatic duct dilatation was observed.\\nThe abdominal pain resolved completely with intravenous fluids within 2 h. Laboratory data normalized in 4 days. Subsequent magnetic resonance cholangiopancreatography showed several cysts, with no signs of pancreatic duct stenosis (Fig. ). Endoscopic ultrasound confirmed a cystic structure in the pancreatic head, with no worrisome features or signs of pancreatic duct obstruction (Fig. ). No excretion of mucin from the ampulla was observed. No recurrence was observed during 3 months of follow-up.                                                                                                                                                                                                                                                                                                                                                                                                                                                                                                                                                                                                                                                                                                                                                                                                                                                                                                                                                                                                                                                                                                                                                                                                                                                                                                                                                                                                                                                                                                                                                                                                                                                                                                                                                                                                                                                                                                1\n",
      "Name: count, dtype: object\n",
      "\n",
      "Column: age\n",
      "Top-3 values:\n",
      "age\n",
      "[[60.0, 'year']]    3061\n",
      "[[65.0, 'year']]    3016\n",
      "[[55.0, 'year']]    2950\n",
      "Name: count, dtype: object\n",
      "\n",
      "Column: gender\n",
      "Top-3 values:\n",
      "gender\n",
      "M    87659\n",
      "F    79375\n",
      "Name: count, dtype: object\n",
      "\n",
      "Column: relevant_articles\n",
      "Top-3 values:\n",
      "relevant_articles\n",
      "{'8322805': 1, '27729144': 1, '11890591': 1, '11907649': 1, '28000701': 1, '24564169': 1, '33382469': 1, '25759012': 1, '15752533': 1, '31581539': 1, '12075507': 1, '25373420': 1, '32243624': 1, '9856479': 1, '12372058': 1, '33169910': 1, '30165240': 1, '24260153': 1, '28642064': 1, '30531642': 1, '32423379': 2, '25450602': 1, '27911912': 1, '25741868': 1, '22341973': 1, '26832775': 1, '29392890': 1, '26969326': 1, '30953472': 1, '32341388': 1, '32867104': 1, '20157015': 1, '10935639': 1, '14514738': 1, '18544103': 1, '33492714': 1, '25666562': 1, '23173898': 1, '19477959': 1, '1952587': 1, '24763994': 1, '9932602': 1, '33121974': 1, '18595973': 1, '28593790': 1, '16707752': 1, '26011646': 1, '27096712': 1, '12925340': 1, '27281533': 1, '12408065': 1, '21255762': 1, '11440988': 1, '2349482': 1, '15043528': 1, '30894705': 1, '23900770': 1, '16385457': 1, '27072794': 1, '27617150': 1, '25633957': 1, '26084827': 1, '18719945': 1, '15141091': 1, '27287265': 1, '30180840': 1, '27610647': 1, '22585873': 1, '24729539': 1, '33687733': 1, '26036852': 1, '34440452': 2}                                                                                                                                                                                                        34\n",
      "{'34198973': 1, '34534994': 1, '34694037': 1, '33264556': 1, '9129205': 1, '34413139': 1, '34960822': 1, '33260195': 1, '33446526': 1, '33392853': 1, '20123959': 1, '27426947': 1, '33729549': 1, '28911151': 1, '29065385': 1, '31270247': 1, '33616813': 1, '32972996': 1, '34694269': 1, '29949487': 1, '34611657': 1, '33763778': 1, '30995506': 1, '34724828': 1, '34686943': 1, '33544838': 1, '31693592': 1, '34504497': 1, '34788127': 1, '33494096': 1, '33892926': 1, '34896650': 1, '31167928': 1, '9398839': 1, '13465720': 1, '32960813': 1, '27253668': 1, '33252644': 1, '34940925': 1, '27588307': 1, '34790633': 1, '2348835': 1, '34309902': 1, '33851338': 1, '21350122': 1, '13465721': 1, '32445440': 1, '16756392': 1, '33835207': 1, '33363283': 1, '26579596': 1, '34061776': 1, '32972995': 1, '34822298': 1, '34753829': 1, '24792136': 1, '20123958': 1, '33093097': 1, '33139913': 1, '9398840': 1, '17547716': 1, '32977999': 1, '33113295': 1, '34710063': 1, '34734915': 1, '34893946': 1, '32678530': 1, '34429372': 1, '34418591': 1, '34601723': 1, '29108822': 1, '33332778': 1, '16784312': 1, '30565240': 1, '24183309': 1, '26424569': 1, '33189161': 1, '34413140': 1, '32519200': 1, '33232588': 1, '26084028': 1, '34061775': 1, '25704559': 1, '32401715': 1, '33890986': 2}    21\n",
      "{'19104167': 1, '28316722': 1, '21048093': 1, '30105607': 1, '19775044': 1, '27483124': 1, '20497150': 1, '24477825': 1, '32851256': 1, '9416711': 1, '28247240': 1, '24071617': 1, '25493156': 1, '9495429': 1, '15071888': 1, '31092191': 1, '34106596': 2}                                                                                                                                                                                                                                                                                                                                                                                                                                                                                                                                                                                                                                                                                                                                                                                                                                                                                                                                                                                                                                                              16\n",
      "Name: count, dtype: object\n",
      "\n",
      "Column: similar_patients\n",
      "Top-3 values:\n",
      "similar_patients\n",
      "{}                                                                                                                                                  62570\n",
      "{'4094581-1': 1, '4094581-2': 1, '4094581-3': 1, '4094581-4': 1, '4094581-5': 1, '4094581-6': 1, '4094581-7': 1, '4094581-8': 1, '4094581-9': 1}       21\n",
      "{'6947763-1': 1}                                                                                                                                       10\n",
      "Name: count, dtype: object\n",
      "\n"
     ]
    }
   ],
   "source": [
    "inspect(raw_df)"
   ]
  },
  {
   "cell_type": "markdown",
   "metadata": {},
   "source": [
    "### Processing"
   ]
  },
  {
   "cell_type": "markdown",
   "metadata": {},
   "source": [
    "Based on our inital exploration, we can see that there are a few columns that we can drop, as they are not relevant to our analysis. We can also see that there are a few columns like age and sex that have to be processed. After that we will deal with null values."
   ]
  },
  {
   "cell_type": "code",
   "execution_count": 13,
   "metadata": {},
   "outputs": [],
   "source": [
    "df = raw_df.copy() # make a copy of the raw dataframe because we will modify it"
   ]
  },
  {
   "cell_type": "markdown",
   "metadata": {},
   "source": [
    "#### Age"
   ]
  },
  {
   "cell_type": "code",
   "execution_count": 18,
   "metadata": {},
   "outputs": [],
   "source": [
    "# age\n",
    "extract_age = lambda x: re.findall(r\"\\d+\\.\\d+\", x)[0]\n",
    "df.age = df.age.apply(extract_age).astype(float)"
   ]
  },
  {
   "cell_type": "markdown",
   "metadata": {},
   "source": [
    "Let's check if we where successful + check distribution:"
   ]
  },
  {
   "cell_type": "code",
   "execution_count": 19,
   "metadata": {},
   "outputs": [
    {
     "data": {
      "text/plain": [
       "0    60.0\n",
       "1    39.0\n",
       "2    57.0\n",
       "3    69.0\n",
       "4    57.0\n",
       "Name: age, dtype: float64"
      ]
     },
     "execution_count": 19,
     "metadata": {},
     "output_type": "execute_result"
    }
   ],
   "source": [
    "df.age.head()"
   ]
  },
  {
   "cell_type": "code",
   "execution_count": 27,
   "metadata": {},
   "outputs": [
    {
     "data": {
      "text/plain": [
       "Text(0, 0.5, 'Frequency')"
      ]
     },
     "execution_count": 27,
     "metadata": {},
     "output_type": "execute_result"
    },
    {
     "data": {
      "image/png": "[encoded data removed]",
      "text/plain": [
       "<Figure size 1000x500 with 1 Axes>"
      ]
     },
     "metadata": {},
     "output_type": "display_data"
    }
   ],
   "source": [
    "df.age.hist(\n",
    "    bins=100,\n",
    "    figsize=(10, 5),\n",
    "    grid=False,\n",
    "    color=\"darkblue\",\n",
    "    edgecolor=\"white\",\n",
    "    linewidth=1.0,\n",
    "    xlabelsize=10,    \n",
    ")\n",
    "plt.title(\"Age distribution\", fontsize=15)\n",
    "plt.xlabel(\"Age\", fontsize=12)\n",
    "plt.ylabel(\"Frequency\",fontsize=12)"
   ]
  },
  {
   "cell_type": "markdown",
   "metadata": {},
   "source": [
    "#### Sex"
   ]
  },
  {
   "cell_type": "code",
   "execution_count": 28,
   "metadata": {},
   "outputs": [
    {
     "name": "stdout",
     "output_type": "stream",
     "text": [
      "Index(['patient_id', 'patient_uid', 'PMID', 'file_path', 'title', 'patient',\n",
      "       'age', 'sex', 'relevant_articles', 'similar_patients'],\n",
      "      dtype='object')\n"
     ]
    }
   ],
   "source": [
    "# rename gender to sex\n",
    "df.rename({\"gender\": \"sex\"}, inplace=True, axis=1)\n",
    "print(df.columns)"
   ]
  },
  {
   "cell_type": "code",
   "execution_count": 41,
   "metadata": {},
   "outputs": [
    {
     "data": {
      "text/plain": [
       "<Axes: title={'center': 'Occurences of sex'}, xlabel='sex', ylabel='Frequency'>"
      ]
     },
     "execution_count": 41,
     "metadata": {},
     "output_type": "execute_result"
    },
    {
     "data": {
      "image/png": "[encoded data removed]",
      "text/plain": [
       "<Figure size 800x500 with 1 Axes>"
      ]
     },
     "metadata": {},
     "output_type": "display_data"
    }
   ],
   "source": [
    "# plot sex distribution (occurences) using matplotlib (pandas)\n",
    "\n",
    "\n",
    "df.sex.value_counts().to_frame().plot.bar(\n",
    "    figsize=(8, 5),\n",
    "    color=\"darkblue\",\n",
    "    edgecolor=\"white\",\n",
    "    linewidth=1.0,\n",
    "    legend=False,\n",
    "    grid=False,\n",
    "    ylabel=\"Frequency\",\n",
    "    title=\"Occurences of sex\",\n",
    ")"
   ]
  },
  {
   "cell_type": "markdown",
   "metadata": {},
   "source": [
    "### Null Values"
   ]
  },
  {
   "cell_type": "markdown",
   "metadata": {},
   "source": [
    "This looks alright - we will for now not do anything with this column."
   ]
  },
  {
   "cell_type": "markdown",
   "metadata": {},
   "source": [
    "Now, we look at the distribution of the data including NA values. To do so, we have to introduce NA by identifying the missing values in the data/the specific values for missing values. We then replace these values with NA and plot the distribution of the data."
   ]
  },
  {
   "cell_type": "code",
   "execution_count": null,
   "metadata": {},
   "outputs": [],
   "source": [
    "na_value = \"Key Not found\"\n",
    "def na_inspect(df_):\n",
    "    potential_nas = ['sibls', \"definition\", 'synonym']    \n",
    "    total_values = df_.shape[0]\n",
    "\n",
    "    for col_name in potential_nas:\n",
    "        # count the number of missing values\n",
    "        na_count = df_.query(f\"{col_name} == '{na_value}'\").shape[0]\n",
    "        na_ratio = na_count / total_values\n",
    "        print(f\"Column: {col_name}\")\n",
    "        print(f\"Number of missing values: {na_count}\")\n",
    "        print(f\"Ratio of missing values: {na_ratio:.3f}\\n\")\n",
    "\n",
    "\n",
    "        # df[col_name] = df[col_name].replace(na_value, np.nan)"
   ]
  },
  {
   "cell_type": "markdown",
   "metadata": {},
   "source": [
    "We use the function from above to inspect the NA values in the data. Based on our ealier analysis we only look into three columns."
   ]
  },
  {
   "cell_type": "code",
   "execution_count": null,
   "metadata": {},
   "outputs": [],
   "source": [
    "na_inspect(raw_df)"
   ]
  },
  {
   "cell_type": "markdown",
   "metadata": {},
   "source": [
    "We drop all rows where the definition is missing, as we cannot use them for training."
   ]
  },
  {
   "cell_type": "code",
   "execution_count": null,
   "metadata": {},
   "outputs": [],
   "source": [
    "df = raw_df.copy()"
   ]
  },
  {
   "cell_type": "code",
   "execution_count": null,
   "metadata": {},
   "outputs": [],
   "source": [
    "# drop rows where definition == \"Key Not found\"\n",
    "df = df.query(f\"definition != '{na_value}'\")"
   ]
  },
  {
   "cell_type": "markdown",
   "metadata": {},
   "source": [
    "Now we do a second round of general inspection for our new, smaller dataset to how this has changed the data."
   ]
  },
  {
   "cell_type": "code",
   "execution_count": null,
   "metadata": {},
   "outputs": [],
   "source": [
    "df.head()"
   ]
  },
  {
   "cell_type": "code",
   "execution_count": null,
   "metadata": {},
   "outputs": [],
   "source": [
    "inspect(df)"
   ]
  },
  {
   "cell_type": "markdown",
   "metadata": {},
   "source": [
    "Next, we look at how our NA values and ratio have changed."
   ]
  },
  {
   "cell_type": "code",
   "execution_count": null,
   "metadata": {},
   "outputs": [],
   "source": [
    "na_inspect(df)"
   ]
  },
  {
   "cell_type": "code",
   "execution_count": null,
   "metadata": {},
   "outputs": [],
   "source": [
    "df.name.unique().shape"
   ]
  },
  {
   "cell_type": "code",
   "execution_count": null,
   "metadata": {},
   "outputs": [],
   "source": [
    "df.definition.unique().shape"
   ]
  },
  {
   "cell_type": "code",
   "execution_count": null,
   "metadata": {},
   "outputs": [],
   "source": [
    "# print name and definition of the first 10 entries:\n",
    "for i in df.index[1:10]:\n",
    "    print(f\"Name: {df.name[i]}\")\n",
    "    print(f\"Definition: {df.definition[i]}\\n\")"
   ]
  }
 ],
 "metadata": {
  "kernelspec": {
   "display_name": "env",
   "language": "python",
   "name": "python3"
  },
  "language_info": {
   "codemirror_mode": {
    "name": "ipython",
    "version": 3
   },
   "file_extension": ".py",
   "mimetype": "text/x-python",
   "name": "python",
   "nbconvert_exporter": "python",
   "pygments_lexer": "ipython3",
   "version": "3.11.6"
  }
 },
 "nbformat": 4,
 "nbformat_minor": 2
}
