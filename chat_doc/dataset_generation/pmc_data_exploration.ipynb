{
 "cells": [
  {
   "cell_type": "markdown",
   "metadata": {},
   "source": [
    "# Data Exploration"
   ]
  },
  {
   "cell_type": "code",
   "execution_count": 1,
   "metadata": {},
   "outputs": [
    {
     "name": "stdout",
     "output_type": "stream",
     "text": [
      "Requirement already satisfied: pandas in /Users/tilmankerl/Documents/UNI/03_WS23/Applied Deep Learning/project/.venv/lib/python3.11/site-packages (2.1.2)\n",
      "Requirement already satisfied: numpy in /Users/tilmankerl/Documents/UNI/03_WS23/Applied Deep Learning/project/.venv/lib/python3.11/site-packages (1.26.1)\n",
      "Requirement already satisfied: matplotlib in /Users/tilmankerl/Documents/UNI/03_WS23/Applied Deep Learning/project/.venv/lib/python3.11/site-packages (3.8.1)\n",
      "Requirement already satisfied: seaborn in /Users/tilmankerl/Documents/UNI/03_WS23/Applied Deep Learning/project/.venv/lib/python3.11/site-packages (0.13.0)\n",
      "Requirement already satisfied: python-dateutil>=2.8.2 in /Users/tilmankerl/Documents/UNI/03_WS23/Applied Deep Learning/project/.venv/lib/python3.11/site-packages (from pandas) (2.8.2)\n",
      "Requirement already satisfied: pytz>=2020.1 in /Users/tilmankerl/Documents/UNI/03_WS23/Applied Deep Learning/project/.venv/lib/python3.11/site-packages (from pandas) (2023.3.post1)\n",
      "Requirement already satisfied: tzdata>=2022.1 in /Users/tilmankerl/Documents/UNI/03_WS23/Applied Deep Learning/project/.venv/lib/python3.11/site-packages (from pandas) (2023.3)\n",
      "Requirement already satisfied: contourpy>=1.0.1 in /Users/tilmankerl/Documents/UNI/03_WS23/Applied Deep Learning/project/.venv/lib/python3.11/site-packages (from matplotlib) (1.2.0)\n",
      "Requirement already satisfied: cycler>=0.10 in /Users/tilmankerl/Documents/UNI/03_WS23/Applied Deep Learning/project/.venv/lib/python3.11/site-packages (from matplotlib) (0.12.1)\n",
      "Requirement already satisfied: fonttools>=4.22.0 in /Users/tilmankerl/Documents/UNI/03_WS23/Applied Deep Learning/project/.venv/lib/python3.11/site-packages (from matplotlib) (4.44.0)\n",
      "Requirement already satisfied: kiwisolver>=1.3.1 in /Users/tilmankerl/Documents/UNI/03_WS23/Applied Deep Learning/project/.venv/lib/python3.11/site-packages (from matplotlib) (1.4.5)\n",
      "Requirement already satisfied: packaging>=20.0 in /Users/tilmankerl/Documents/UNI/03_WS23/Applied Deep Learning/project/.venv/lib/python3.11/site-packages (from matplotlib) (23.2)\n",
      "Requirement already satisfied: pillow>=8 in /Users/tilmankerl/Documents/UNI/03_WS23/Applied Deep Learning/project/.venv/lib/python3.11/site-packages (from matplotlib) (10.1.0)\n",
      "Requirement already satisfied: pyparsing>=2.3.1 in /Users/tilmankerl/Documents/UNI/03_WS23/Applied Deep Learning/project/.venv/lib/python3.11/site-packages (from matplotlib) (3.1.1)\n",
      "Requirement already satisfied: six>=1.5 in /Users/tilmankerl/Documents/UNI/03_WS23/Applied Deep Learning/project/.venv/lib/python3.11/site-packages (from python-dateutil>=2.8.2->pandas) (1.16.0)\n",
      "Note: you may need to restart the kernel to use updated packages.\n"
     ]
    }
   ],
   "source": [
    "%pip install -U pandas numpy matplotlib seaborn"
   ]
  },
  {
   "cell_type": "code",
   "execution_count": 2,
   "metadata": {},
   "outputs": [],
   "source": [
    "import numpy as np\n",
    "import pandas as pd\n",
    "\n",
    "import matplotlib.pyplot as plt\n",
    "import seaborn as sns\n",
    "\n",
    "from datasets import load_dataset"
   ]
  },
  {
   "cell_type": "markdown",
   "metadata": {},
   "source": [
    "## Main Exploration"
   ]
  },
  {
   "cell_type": "markdown",
   "metadata": {},
   "source": [
    "### Data Loading"
   ]
  },
  {
   "cell_type": "code",
   "execution_count": 5,
   "metadata": {},
   "outputs": [],
   "source": [
    "raw_df = pd.read_json(path)"
   ]
  },
  {
   "cell_type": "markdown",
   "metadata": {},
   "source": [
    "### Inspection"
   ]
  },
  {
   "cell_type": "markdown",
   "metadata": {},
   "source": [
    "We start off by looking at basic information about the data, such as the number of rows and columns, the data types of the columns, and the number of null values in each column."
   ]
  },
  {
   "cell_type": "code",
   "execution_count": 6,
   "metadata": {},
   "outputs": [
    {
     "data": {
      "text/html": [
       "<div>\n",
       "<style scoped>\n",
       "    .dataframe tbody tr th:only-of-type {\n",
       "        vertical-align: middle;\n",
       "    }\n",
       "\n",
       "    .dataframe tbody tr th {\n",
       "        vertical-align: top;\n",
       "    }\n",
       "\n",
       "    .dataframe thead th {\n",
       "        text-align: right;\n",
       "    }\n",
       "</style>\n",
       "<table border=\"1\" class=\"dataframe\">\n",
       "  <thead>\n",
       "    <tr style=\"text-align: right;\">\n",
       "      <th></th>\n",
       "      <th>root</th>\n",
       "      <th>tree</th>\n",
       "      <th>name</th>\n",
       "      <th>parents</th>\n",
       "      <th>childs</th>\n",
       "      <th>sibls</th>\n",
       "      <th>id</th>\n",
       "      <th>degree</th>\n",
       "      <th>definition</th>\n",
       "      <th>synonym</th>\n",
       "    </tr>\n",
       "  </thead>\n",
       "  <tbody>\n",
       "    <tr>\n",
       "      <th>0</th>\n",
       "      <td>Symptoms, signs or clinical findings, not else...</td>\n",
       "      <td>Symptoms, signs or clinical findings, not else...</td>\n",
       "      <td>Symptoms, signs or clinical findings, not else...</td>\n",
       "      <td>[Key Not found]</td>\n",
       "      <td>[Symptoms, signs or clinical findings of blood...</td>\n",
       "      <td>[]</td>\n",
       "      <td>1843895818</td>\n",
       "      <td>1</td>\n",
       "      <td>Clinical findings include those found using ph...</td>\n",
       "      <td>Key Not found</td>\n",
       "    </tr>\n",
       "    <tr>\n",
       "      <th>1</th>\n",
       "      <td>Symptoms, signs or clinical findings, not else...</td>\n",
       "      <td>Symptoms, signs or clinical findings, not else...</td>\n",
       "      <td>Symptoms, signs or clinical findings of blood,...</td>\n",
       "      <td>[Symptoms, signs or clinical findings, not els...</td>\n",
       "      <td>[Symptoms of blood, blood-forming organs, or t...</td>\n",
       "      <td>[Symptoms, signs or clinical findings of blood...</td>\n",
       "      <td>1994504557</td>\n",
       "      <td>2</td>\n",
       "      <td>Key Not found</td>\n",
       "      <td>Key Not found</td>\n",
       "    </tr>\n",
       "    <tr>\n",
       "      <th>2</th>\n",
       "      <td>Symptoms, signs or clinical findings, not else...</td>\n",
       "      <td>Symptoms, signs or clinical findings, not else...</td>\n",
       "      <td>Symptoms of blood, blood-forming organs, or th...</td>\n",
       "      <td>[Symptoms, signs or clinical findings of blood...</td>\n",
       "      <td>[Fear of haematological disease, Symptom or co...</td>\n",
       "      <td>[Symptoms of blood, blood-forming organs, or t...</td>\n",
       "      <td>739755954</td>\n",
       "      <td>3</td>\n",
       "      <td>Key Not found</td>\n",
       "      <td>Key Not found</td>\n",
       "    </tr>\n",
       "    <tr>\n",
       "      <th>3</th>\n",
       "      <td>Symptoms, signs or clinical findings, not else...</td>\n",
       "      <td>Symptoms, signs or clinical findings, not else...</td>\n",
       "      <td>Fear of haematological disease</td>\n",
       "      <td>[Fear of disease, Symptoms of blood, blood-for...</td>\n",
       "      <td>[Fear of haematological cancer]</td>\n",
       "      <td>[Fear of cancer, Fear of human immunodeficienc...</td>\n",
       "      <td>588081624</td>\n",
       "      <td>4</td>\n",
       "      <td>Key Not found</td>\n",
       "      <td>Key Not found</td>\n",
       "    </tr>\n",
       "    <tr>\n",
       "      <th>4</th>\n",
       "      <td>Symptoms, signs or clinical findings, not else...</td>\n",
       "      <td>Symptoms, signs or clinical findings, not else...</td>\n",
       "      <td>Fear of haematological cancer</td>\n",
       "      <td>[Fear of cancer, Fear of haematological disease]</td>\n",
       "      <td>[]</td>\n",
       "      <td>[Fear of haematological cancer, Fear of cancer...</td>\n",
       "      <td>207258311</td>\n",
       "      <td>5</td>\n",
       "      <td>Key Not found</td>\n",
       "      <td>Key Not found</td>\n",
       "    </tr>\n",
       "  </tbody>\n",
       "</table>\n",
       "</div>"
      ],
      "text/plain": [
       "                                                root  \\\n",
       "0  Symptoms, signs or clinical findings, not else...   \n",
       "1  Symptoms, signs or clinical findings, not else...   \n",
       "2  Symptoms, signs or clinical findings, not else...   \n",
       "3  Symptoms, signs or clinical findings, not else...   \n",
       "4  Symptoms, signs or clinical findings, not else...   \n",
       "\n",
       "                                                tree  \\\n",
       "0  Symptoms, signs or clinical findings, not else...   \n",
       "1  Symptoms, signs or clinical findings, not else...   \n",
       "2  Symptoms, signs or clinical findings, not else...   \n",
       "3  Symptoms, signs or clinical findings, not else...   \n",
       "4  Symptoms, signs or clinical findings, not else...   \n",
       "\n",
       "                                                name  \\\n",
       "0  Symptoms, signs or clinical findings, not else...   \n",
       "1  Symptoms, signs or clinical findings of blood,...   \n",
       "2  Symptoms of blood, blood-forming organs, or th...   \n",
       "3                     Fear of haematological disease   \n",
       "4                      Fear of haematological cancer   \n",
       "\n",
       "                                             parents  \\\n",
       "0                                    [Key Not found]   \n",
       "1  [Symptoms, signs or clinical findings, not els...   \n",
       "2  [Symptoms, signs or clinical findings of blood...   \n",
       "3  [Fear of disease, Symptoms of blood, blood-for...   \n",
       "4   [Fear of cancer, Fear of haematological disease]   \n",
       "\n",
       "                                              childs  \\\n",
       "0  [Symptoms, signs or clinical findings of blood...   \n",
       "1  [Symptoms of blood, blood-forming organs, or t...   \n",
       "2  [Fear of haematological disease, Symptom or co...   \n",
       "3                    [Fear of haematological cancer]   \n",
       "4                                                 []   \n",
       "\n",
       "                                               sibls          id  degree  \\\n",
       "0                                                 []  1843895818       1   \n",
       "1  [Symptoms, signs or clinical findings of blood...  1994504557       2   \n",
       "2  [Symptoms of blood, blood-forming organs, or t...   739755954       3   \n",
       "3  [Fear of cancer, Fear of human immunodeficienc...   588081624       4   \n",
       "4  [Fear of haematological cancer, Fear of cancer...   207258311       5   \n",
       "\n",
       "                                          definition        synonym  \n",
       "0  Clinical findings include those found using ph...  Key Not found  \n",
       "1                                      Key Not found  Key Not found  \n",
       "2                                      Key Not found  Key Not found  \n",
       "3                                      Key Not found  Key Not found  \n",
       "4                                      Key Not found  Key Not found  "
      ]
     },
     "execution_count": 6,
     "metadata": {},
     "output_type": "execute_result"
    }
   ],
   "source": [
    "raw_df.head()"
   ]
  },
  {
   "cell_type": "code",
   "execution_count": 7,
   "metadata": {},
   "outputs": [],
   "source": [
    "def inspect(df_):\n",
    "\n",
    "    print(\n",
    "        f\"The dataset contains: \\n\\t--> {df_.shape[0]} rows \\n\\t--> {df_.shape[1]} columns.\"    \n",
    "    )\n",
    "\n",
    "    print(\n",
    "        f\"The columns are: \\n\\t--> {df_.columns.to_list()}\\n\"\n",
    "    )\n",
    "\n",
    "    print(\n",
    "        raw_df.info()\n",
    "    )\n",
    "\n",
    "    for col_name in raw_df.columns.to_list():\n",
    "        # get the top-3 most frequent values\n",
    "        top_3 = raw_df[col_name].value_counts().head(3)\n",
    "        # cut of for easier readings\n",
    "        top_3 = top_3.apply(lambda x: str(x)[:50])\n",
    "\n",
    "        print(f\"Column: {col_name}\")\n",
    "        print(f\"Top-3 values:\\n{top_3}\\n\")\n",
    "\n"
   ]
  },
  {
   "cell_type": "markdown",
   "metadata": {},
   "source": [
    "We start of by doing a general inspection using the function from above:"
   ]
  },
  {
   "cell_type": "code",
   "execution_count": 8,
   "metadata": {},
   "outputs": [
    {
     "data": {
      "text/html": [
       "<div>\n",
       "<style scoped>\n",
       "    .dataframe tbody tr th:only-of-type {\n",
       "        vertical-align: middle;\n",
       "    }\n",
       "\n",
       "    .dataframe tbody tr th {\n",
       "        vertical-align: top;\n",
       "    }\n",
       "\n",
       "    .dataframe thead th {\n",
       "        text-align: right;\n",
       "    }\n",
       "</style>\n",
       "<table border=\"1\" class=\"dataframe\">\n",
       "  <thead>\n",
       "    <tr style=\"text-align: right;\">\n",
       "      <th></th>\n",
       "      <th>root</th>\n",
       "      <th>tree</th>\n",
       "      <th>name</th>\n",
       "      <th>parents</th>\n",
       "      <th>childs</th>\n",
       "      <th>sibls</th>\n",
       "      <th>id</th>\n",
       "      <th>degree</th>\n",
       "      <th>definition</th>\n",
       "      <th>synonym</th>\n",
       "    </tr>\n",
       "  </thead>\n",
       "  <tbody>\n",
       "    <tr>\n",
       "      <th>0</th>\n",
       "      <td>Symptoms, signs or clinical findings, not else...</td>\n",
       "      <td>Symptoms, signs or clinical findings, not else...</td>\n",
       "      <td>Symptoms, signs or clinical findings, not else...</td>\n",
       "      <td>[Key Not found]</td>\n",
       "      <td>[Symptoms, signs or clinical findings of blood...</td>\n",
       "      <td>[]</td>\n",
       "      <td>1843895818</td>\n",
       "      <td>1</td>\n",
       "      <td>Clinical findings include those found using ph...</td>\n",
       "      <td>Key Not found</td>\n",
       "    </tr>\n",
       "    <tr>\n",
       "      <th>1</th>\n",
       "      <td>Symptoms, signs or clinical findings, not else...</td>\n",
       "      <td>Symptoms, signs or clinical findings, not else...</td>\n",
       "      <td>Symptoms, signs or clinical findings of blood,...</td>\n",
       "      <td>[Symptoms, signs or clinical findings, not els...</td>\n",
       "      <td>[Symptoms of blood, blood-forming organs, or t...</td>\n",
       "      <td>[Symptoms, signs or clinical findings of blood...</td>\n",
       "      <td>1994504557</td>\n",
       "      <td>2</td>\n",
       "      <td>Key Not found</td>\n",
       "      <td>Key Not found</td>\n",
       "    </tr>\n",
       "    <tr>\n",
       "      <th>2</th>\n",
       "      <td>Symptoms, signs or clinical findings, not else...</td>\n",
       "      <td>Symptoms, signs or clinical findings, not else...</td>\n",
       "      <td>Symptoms of blood, blood-forming organs, or th...</td>\n",
       "      <td>[Symptoms, signs or clinical findings of blood...</td>\n",
       "      <td>[Fear of haematological disease, Symptom or co...</td>\n",
       "      <td>[Symptoms of blood, blood-forming organs, or t...</td>\n",
       "      <td>739755954</td>\n",
       "      <td>3</td>\n",
       "      <td>Key Not found</td>\n",
       "      <td>Key Not found</td>\n",
       "    </tr>\n",
       "    <tr>\n",
       "      <th>3</th>\n",
       "      <td>Symptoms, signs or clinical findings, not else...</td>\n",
       "      <td>Symptoms, signs or clinical findings, not else...</td>\n",
       "      <td>Fear of haematological disease</td>\n",
       "      <td>[Fear of disease, Symptoms of blood, blood-for...</td>\n",
       "      <td>[Fear of haematological cancer]</td>\n",
       "      <td>[Fear of cancer, Fear of human immunodeficienc...</td>\n",
       "      <td>588081624</td>\n",
       "      <td>4</td>\n",
       "      <td>Key Not found</td>\n",
       "      <td>Key Not found</td>\n",
       "    </tr>\n",
       "    <tr>\n",
       "      <th>4</th>\n",
       "      <td>Symptoms, signs or clinical findings, not else...</td>\n",
       "      <td>Symptoms, signs or clinical findings, not else...</td>\n",
       "      <td>Fear of haematological cancer</td>\n",
       "      <td>[Fear of cancer, Fear of haematological disease]</td>\n",
       "      <td>[]</td>\n",
       "      <td>[Fear of haematological cancer, Fear of cancer...</td>\n",
       "      <td>207258311</td>\n",
       "      <td>5</td>\n",
       "      <td>Key Not found</td>\n",
       "      <td>Key Not found</td>\n",
       "    </tr>\n",
       "  </tbody>\n",
       "</table>\n",
       "</div>"
      ],
      "text/plain": [
       "                                                root  \\\n",
       "0  Symptoms, signs or clinical findings, not else...   \n",
       "1  Symptoms, signs or clinical findings, not else...   \n",
       "2  Symptoms, signs or clinical findings, not else...   \n",
       "3  Symptoms, signs or clinical findings, not else...   \n",
       "4  Symptoms, signs or clinical findings, not else...   \n",
       "\n",
       "                                                tree  \\\n",
       "0  Symptoms, signs or clinical findings, not else...   \n",
       "1  Symptoms, signs or clinical findings, not else...   \n",
       "2  Symptoms, signs or clinical findings, not else...   \n",
       "3  Symptoms, signs or clinical findings, not else...   \n",
       "4  Symptoms, signs or clinical findings, not else...   \n",
       "\n",
       "                                                name  \\\n",
       "0  Symptoms, signs or clinical findings, not else...   \n",
       "1  Symptoms, signs or clinical findings of blood,...   \n",
       "2  Symptoms of blood, blood-forming organs, or th...   \n",
       "3                     Fear of haematological disease   \n",
       "4                      Fear of haematological cancer   \n",
       "\n",
       "                                             parents  \\\n",
       "0                                    [Key Not found]   \n",
       "1  [Symptoms, signs or clinical findings, not els...   \n",
       "2  [Symptoms, signs or clinical findings of blood...   \n",
       "3  [Fear of disease, Symptoms of blood, blood-for...   \n",
       "4   [Fear of cancer, Fear of haematological disease]   \n",
       "\n",
       "                                              childs  \\\n",
       "0  [Symptoms, signs or clinical findings of blood...   \n",
       "1  [Symptoms of blood, blood-forming organs, or t...   \n",
       "2  [Fear of haematological disease, Symptom or co...   \n",
       "3                    [Fear of haematological cancer]   \n",
       "4                                                 []   \n",
       "\n",
       "                                               sibls          id  degree  \\\n",
       "0                                                 []  1843895818       1   \n",
       "1  [Symptoms, signs or clinical findings of blood...  1994504557       2   \n",
       "2  [Symptoms of blood, blood-forming organs, or t...   739755954       3   \n",
       "3  [Fear of cancer, Fear of human immunodeficienc...   588081624       4   \n",
       "4  [Fear of haematological cancer, Fear of cancer...   207258311       5   \n",
       "\n",
       "                                          definition        synonym  \n",
       "0  Clinical findings include those found using ph...  Key Not found  \n",
       "1                                      Key Not found  Key Not found  \n",
       "2                                      Key Not found  Key Not found  \n",
       "3                                      Key Not found  Key Not found  \n",
       "4                                      Key Not found  Key Not found  "
      ]
     },
     "execution_count": 8,
     "metadata": {},
     "output_type": "execute_result"
    }
   ],
   "source": [
    "raw_df.head()"
   ]
  },
  {
   "cell_type": "code",
   "execution_count": 9,
   "metadata": {},
   "outputs": [
    {
     "name": "stdout",
     "output_type": "stream",
     "text": [
      "The dataset contains: \n",
      "\t--> 68579 rows \n",
      "\t--> 10 columns.\n",
      "The columns are: \n",
      "\t--> ['root', 'tree', 'name', 'parents', 'childs', 'sibls', 'id', 'degree', 'definition', 'synonym']\n",
      "\n",
      "<class 'pandas.core.frame.DataFrame'>\n",
      "RangeIndex: 68579 entries, 0 to 68578\n",
      "Data columns (total 10 columns):\n",
      " #   Column      Non-Null Count  Dtype \n",
      "---  ------      --------------  ----- \n",
      " 0   root        68579 non-null  object\n",
      " 1   tree        68579 non-null  object\n",
      " 2   name        68579 non-null  object\n",
      " 3   parents     68579 non-null  object\n",
      " 4   childs      68579 non-null  object\n",
      " 5   sibls       68579 non-null  object\n",
      " 6   id          68579 non-null  int64 \n",
      " 7   degree      68579 non-null  int64 \n",
      " 8   definition  68579 non-null  object\n",
      " 9   synonym     68579 non-null  object\n",
      "dtypes: int64(2), object(8)\n",
      "memory usage: 5.2+ MB\n",
      "None\n",
      "Column: root\n",
      "Top-3 values:\n",
      "root\n",
      "Special Views                                                         4190\n",
      "Extension Codes                                                       4182\n",
      "Injury, poisoning or certain other consequences of external causes    4152\n",
      "Name: count, dtype: object\n",
      "\n",
      "Column: tree\n",
      "Top-3 values:\n",
      "tree\n",
      "Symptoms, signs or clinical findings, not elsewhere classified                                                                                                                                   1\n",
      "Diseases of the nervous system.Movement disorders.Dystonic disorders.Secondary dystonia.Dystonia due to cerebral anoxia                                                                          1\n",
      "Diseases of the nervous system.Movement disorders.Dystonic disorders.Primary dystonia.Primary dystonia, familial.Juvenile-onset familial primary dystonia.Primary dystonia DYT1 gene mutation    1\n",
      "Name: count, dtype: object\n",
      "\n",
      "Column: name\n",
      "Top-3 values:\n",
      "name\n",
      "HIV-associated immune reconstitution inflammatory syndrome              30\n",
      "Infection due to pacemaker or implantable cardioverter defibrillator    19\n",
      "Infection due to implantable cardioverter defibrillator                 19\n",
      "Name: count, dtype: object\n",
      "\n",
      "Column: parents\n",
      "Top-3 values:\n",
      "parents\n",
      "Key Not found                                                  7159\n",
      "[HIV disease clinical stage 4 associated with tuberculosis]     151\n",
      "[HIV disease clinical stage 4 associated with malaria]          130\n",
      "Name: count, dtype: object\n",
      "\n",
      "Column: childs\n",
      "Top-3 values:\n",
      "childs\n",
      "[]                                                                                       46777\n",
      "Key Not found                                                                             7159\n",
      "[Infection due to implantable cardioverter defibrillator, Infection due to pacemaker]       19\n",
      "Name: count, dtype: object\n",
      "\n",
      "Column: sibls\n",
      "Top-3 values:\n",
      "sibls\n",
      "Key Not found                                                                                                                                                                                                                                                                                                                                                                                                                                                                                                                                                                                                                                                                                                                                                                                                                                                                                                                                                                                                                                                                                                                                                                                                                                                                                                                                                                                                                                                                                                                                                                                                                                                                                                                                                                                                                                                                                                                                                                                                                                                                                                                                                                                                                                                                                                                                                                                                                                                                                                                                                                                                                                                                                                                                                                                                                                                                                                                                                                                                                                                                                                                                                                                                                                                                                                                                                                                                                                                                                                                                                                                                                                                                                                                                                                                                                                                                                                                                                                  7159\n",
      "[Herpes simplex virus associated with human immunodeficiency virus disease associated with tuberculosis, Pneumonia due to pneumocystis associated with human immunodeficiency virus disease associated with tuberculosis, Candidosis of gastrointestinal tract associated with human immunodeficiency virus disease associated with tuberculosis, Cytomegaloviral disease associated with human immunodeficiency virus disease associated with tuberculosis, Toxoplasmosis associated with human immunodeficiency virus disease associated with tuberculosis, Disseminated cryptococcosis associated with human immunodeficiency virus disease associated with tuberculosis, Infections due to non-tuberculous mycobacteria associated with human immunodeficiency virus disease associated with tuberculosis, Progressive leukoencephalopathy associated with human immunodeficiency virus disease associated with tuberculosis, Cryptosporidiosis associated with human immunodeficiency virus disease associated with tuberculosis, Cystoisosporiasis associated with human immunodeficiency virus disease associated with tuberculosis, Neoplasms of haematopoietic or lymphoid tissues associated with human immunodeficiency virus disease associated with tuberculosis, Leishmaniasis associated with human immunodeficiency virus disease associated with tuberculosis, Kaposi sarcoma associated with human immunodeficiency virus disease associated with tuberculosis]                                                                                                                                                                                                                                                                                                                                                                                                                                                                                                                                                                                                                                                                                                                                                                                                                                                                                                                                                                                                                                                                                                                                                                                                                                                                                                                                                                                                                                                                                                                                                                                                                                                                                                                                                                                                                                                                                                                                                                                                                                                                                                                                                                                                                                                                                                                                                                                                                                                                                               151\n",
      "[Absence of fingerprints-congenital milia syndrome, Ackerman syndrome, ADULT syndrome, Amelo-cerebro-hypohidrotic syndrome, Ankyloblepharon - ectodermal defects - cleft lip or palate, AREDYLD syndrome, Beare-Stevenson cutis gyrata syndrome, Blepharocheilodontic syndrome, Book syndrome, Cardio-facio-cutaneous syndrome, Cerebellar ataxia - ectodermal dysplasia, Curly hair – ankyloblepharon – nail dysplasia syndrome, Choroidal atrophy - alopecia, Coffin-Siris syndrome, Conductive deafness - ptosis - skeletal anomalies, Contractures - ectodermal dysplasia - cleft lip or palate, Cote-Katsantoni syndrome, Cranioectodermal dysplasia, Dahlberg-Borer-Newcomer syndrome, Dermatoosteolysis, Kirghizian type, Dubowitz syndrome, Ectodermal dysplasia - absent dermatoglyphs, Ectodermal dysplasia - acanthosis nigricans, Ectodermal dysplasia - arthrogryposis - diabetes mellitus, Ectodermal dysplasia - blindness, Ectodermal dysplasia - cutaneous syndactyly syndrome, Ectodermal dysplasia - ectrodactyly - macular dystrophy, Ectodermal dysplasia - intellectual deficit - central nervous system malformation, Ectodermal dysplasia - sensorineural deafness, Ectodermal dysplasia - syndactyly syndrome, Ectodermal dysplasia with natal teeth, Turnpenny type, Ectodermal dysplasia, pure hair-nail type, Ectodermal dysplasia, Berlin type, Ectrodactyly - ectodermal dysplasia - cleft lip or palate, Ectrodactyly - ectodermal dysplasia without clefting, Facial ectodermal dysplasia, Focal facial dermal dysplasia, GAPO syndrome, Gingival fibromatosis - hypertrichosis, Gorlin-Chaudhry-Moss syndrome, Hidrotic ectodermal dysplasia, Christianson-Fourie type, Hidrotic ectodermal dysplasia, Halal type, Hypertrichosis cubiti - short stature, Hypoparathyroidism - deafness - renal disease, Ichthyosis - alopecia - eclabion - ectropion - intellectual deficit, Johanson-Blizzard syndrome, Johnson neuroectodermal syndrome, Juvenile macular degeneration - hypotrichosis, Lacrimo-auriculo-dento-digital syndrome, Limb-mammary syndrome, Marshall syndrome, Naegeli-Franceschetti-Jadassohn syndrome, Oculo-dento-digital dysplasia, Oculo-osteo-cutaneous syndrome, Odonto-tricho-ungual-digito-palmar syndrome, Odontotrichomelic syndrome, OL-EDA-ID syndrome, Oligodontia - cancer predisposition syndrome, Pilodental dysplasia - refractive errors, Rapp-Hodgkin syndrome, Scalp-ear-nipple syndrome, Schinzel-Giedion syndrome, Sparse hair - short stature - skin anomalies, Stern-Lubinsky-Durrie syndrome, Taurodontia - absent teeth - sparse hair, Toriello-Lacassie-Droste syndrome, Tricho-dento-osseous syndrome, Tricho-oculo-dermo-vertebral syndrome, Tricho-odonto-onychial dysplasia with bone deficiency in fronto-parietal region, Tricho-odonto-onychial ectodermal dysplasia, Tricho-retino-dento-digital syndrome, Trichodental syndrome, Trichodermodysplasia - dental alterations, Trichodysplasia - amelogenesis imperfecta, Trichomegaly - cataract - hereditary spherocytosis, Trichomegaly - retina pigmentary degeneration - dwarfism, Xeroderma - talipes - enamel defects, Zlotogora-Ogur syndrome, Zunich-Kaye syndrome, Dermo-odontodysplasia, Oculotrichodysplasia, Solitary median maxillary central incisor syndrome, Cartilage-hair hypoplasia, Trichorhinophalangeal syndrome type 1 and 3, Langer-Giedion syndrome, Chondroectodermal dysplasia, Oral-facial-digital syndrome, Cronkhite-Canada syndrome, Hypohidrotic ectodermal dysplasia, Rothmund-Thomson syndrome, Hallermann-Streiff-François syndrome, Keratitis – ichthyosis – deafness syndrome, Papillon-Lefèvre syndrome, Hidrotic ectodermal dysplasia, Clouston type, Odonto-onycho-dermal dysplasia, Woolly hair – hypotrichosis – everted lower lip – outstanding ears, Autosomal dominant palmoplantar keratoderma and congenital alopecia, BIDS syndrome, IBIDS syndrome, Sabinas brittle hair syndrome, ...]     132\n",
      "Name: count, dtype: object\n",
      "\n",
      "Column: id\n",
      "Top-3 values:\n",
      "id\n",
      "647697202     30\n",
      "1871888610    19\n",
      "1392805517    19\n",
      "Name: count, dtype: object\n",
      "\n",
      "Column: degree\n",
      "Top-3 values:\n",
      "degree\n",
      "6    18124\n",
      "5    17248\n",
      "7    11852\n",
      "Name: count, dtype: object\n",
      "\n",
      "Column: definition\n",
      "Top-3 values:\n",
      "definition\n",
      "Key Not found                                                           42300\n",
      "Code also additional code, if desired, to identify specific drug          107\n",
      "Infection with HIV and tuberculosis - no causal relationship implied       48\n",
      "Name: count, dtype: object\n",
      "\n",
      "Column: synonym\n",
      "Top-3 values:\n",
      "synonym\n",
      "Key Not found                                                                                                                                                                 48680\n",
      "[Immune reconstitution inflammatory syndrome [IRIS], HIV-associated, HIV - [human immunodeficiency virus] associated IRIS - [Immune reconstitution inflammatory syndrome]]       30\n",
      "[Seborrhoeic dermatitis associated with HIV infection]                                                                                                                           16\n",
      "Name: count, dtype: object\n",
      "\n"
     ]
    }
   ],
   "source": [
    "inspect(raw_df)"
   ]
  },
  {
   "cell_type": "markdown",
   "metadata": {},
   "source": [
    "Based of this, we look into the degree column by plotting a histogram of the values."
   ]
  },
  {
   "cell_type": "code",
   "execution_count": 10,
   "metadata": {},
   "outputs": [
    {
     "data": {
      "text/plain": [
       "<Axes: >"
      ]
     },
     "execution_count": 10,
     "metadata": {},
     "output_type": "execute_result"
    },
    {
     "data": {
      "image/png": "[encoded data removed]",
      "text/plain": [
       "<Figure size 640x480 with 1 Axes>"
      ]
     },
     "metadata": {},
     "output_type": "display_data"
    }
   ],
   "source": [
    "raw_df.degree.hist()"
   ]
  },
  {
   "cell_type": "markdown",
   "metadata": {},
   "source": [
    "This looks alright - we will for now not do anything with this column."
   ]
  },
  {
   "cell_type": "markdown",
   "metadata": {},
   "source": [
    "Now, we look at the distribution of the data including NA values. To do so, we have to introduce NA by identifying the missing values in the data/the specific values for missing values. We then replace these values with NA and plot the distribution of the data."
   ]
  },
  {
   "cell_type": "code",
   "execution_count": 11,
   "metadata": {},
   "outputs": [],
   "source": [
    "na_value = \"Key Not found\"\n",
    "def na_inspect(df_):\n",
    "    potential_nas = ['sibls', \"definition\", 'synonym']    \n",
    "    total_values = df_.shape[0]\n",
    "\n",
    "    for col_name in potential_nas:\n",
    "        # count the number of missing values\n",
    "        na_count = df_.query(f\"{col_name} == '{na_value}'\").shape[0]\n",
    "        na_ratio = na_count / total_values\n",
    "        print(f\"Column: {col_name}\")\n",
    "        print(f\"Number of missing values: {na_count}\")\n",
    "        print(f\"Ratio of missing values: {na_ratio:.3f}\\n\")\n",
    "\n",
    "\n",
    "        # df[col_name] = df[col_name].replace(na_value, np.nan)"
   ]
  },
  {
   "cell_type": "markdown",
   "metadata": {},
   "source": [
    "We use the function from above to inspect the NA values in the data. Based on our ealier analysis we only look into three columns."
   ]
  },
  {
   "cell_type": "code",
   "execution_count": 12,
   "metadata": {},
   "outputs": [
    {
     "name": "stdout",
     "output_type": "stream",
     "text": [
      "Column: sibls\n",
      "Number of missing values: 7159\n",
      "Ratio of missing values: 0.104\n",
      "\n",
      "Column: definition\n",
      "Number of missing values: 42300\n",
      "Ratio of missing values: 0.617\n",
      "\n",
      "Column: synonym\n",
      "Number of missing values: 48680\n",
      "Ratio of missing values: 0.710\n",
      "\n"
     ]
    }
   ],
   "source": [
    "na_inspect(raw_df)"
   ]
  },
  {
   "cell_type": "markdown",
   "metadata": {},
   "source": [
    "We drop all rows where the definition is missing, as we cannot use them for training."
   ]
  },
  {
   "cell_type": "code",
   "execution_count": 13,
   "metadata": {},
   "outputs": [],
   "source": [
    "df = raw_df.copy()"
   ]
  },
  {
   "cell_type": "code",
   "execution_count": 14,
   "metadata": {},
   "outputs": [],
   "source": [
    "# drop rows where definition == \"Key Not found\"\n",
    "df = df.query(f\"definition != '{na_value}'\")"
   ]
  },
  {
   "cell_type": "markdown",
   "metadata": {},
   "source": [
    "Now we do a second round of general inspection for our new, smaller dataset to how this has changed the data."
   ]
  },
  {
   "cell_type": "code",
   "execution_count": 28,
   "metadata": {},
   "outputs": [
    {
     "data": {
      "text/html": [
       "<div>\n",
       "<style scoped>\n",
       "    .dataframe tbody tr th:only-of-type {\n",
       "        vertical-align: middle;\n",
       "    }\n",
       "\n",
       "    .dataframe tbody tr th {\n",
       "        vertical-align: top;\n",
       "    }\n",
       "\n",
       "    .dataframe thead th {\n",
       "        text-align: right;\n",
       "    }\n",
       "</style>\n",
       "<table border=\"1\" class=\"dataframe\">\n",
       "  <thead>\n",
       "    <tr style=\"text-align: right;\">\n",
       "      <th></th>\n",
       "      <th>root</th>\n",
       "      <th>tree</th>\n",
       "      <th>name</th>\n",
       "      <th>parents</th>\n",
       "      <th>childs</th>\n",
       "      <th>sibls</th>\n",
       "      <th>id</th>\n",
       "      <th>degree</th>\n",
       "      <th>definition</th>\n",
       "      <th>synonym</th>\n",
       "    </tr>\n",
       "  </thead>\n",
       "  <tbody>\n",
       "    <tr>\n",
       "      <th>0</th>\n",
       "      <td>Symptoms, signs or clinical findings, not else...</td>\n",
       "      <td>Symptoms, signs or clinical findings, not else...</td>\n",
       "      <td>Symptoms, signs or clinical findings, not else...</td>\n",
       "      <td>[Key Not found]</td>\n",
       "      <td>[Symptoms, signs or clinical findings of blood...</td>\n",
       "      <td>[]</td>\n",
       "      <td>1843895818</td>\n",
       "      <td>1</td>\n",
       "      <td>Clinical findings include those found using ph...</td>\n",
       "      <td>Key Not found</td>\n",
       "    </tr>\n",
       "    <tr>\n",
       "      <th>6</th>\n",
       "      <td>Symptoms, signs or clinical findings, not else...</td>\n",
       "      <td>Symptoms, signs or clinical findings, not else...</td>\n",
       "      <td>Enlarged lymph nodes</td>\n",
       "      <td>[General symptoms, Symptoms of blood, blood-fo...</td>\n",
       "      <td>[Localised lymph node enlargement, Generalised...</td>\n",
       "      <td>[Abiotrophy, Autointoxication, Autotoxaemia, C...</td>\n",
       "      <td>1564691570</td>\n",
       "      <td>4</td>\n",
       "      <td>Enlarged lymph node is called lymphadenopathy ...</td>\n",
       "      <td>[swollen glands, Lymphadenopathy, adenopathy, ...</td>\n",
       "    </tr>\n",
       "    <tr>\n",
       "      <th>40</th>\n",
       "      <td>Symptoms, signs or clinical findings, not else...</td>\n",
       "      <td>Symptoms, signs or clinical findings, not else...</td>\n",
       "      <td>Abnormal level of lead in blood</td>\n",
       "      <td>[Finding of abnormal level of heavy metals in ...</td>\n",
       "      <td>[]</td>\n",
       "      <td>[Abnormal level of lead in blood]</td>\n",
       "      <td>1183434772</td>\n",
       "      <td>6</td>\n",
       "      <td>Abnormal level of lead in blood in those who h...</td>\n",
       "      <td>Key Not found</td>\n",
       "    </tr>\n",
       "    <tr>\n",
       "      <th>66</th>\n",
       "      <td>Symptoms, signs or clinical findings, not else...</td>\n",
       "      <td>Symptoms, signs or clinical findings, not else...</td>\n",
       "      <td>Bacteraemia</td>\n",
       "      <td>[Septicaemia]</td>\n",
       "      <td>[Staphylococcus aureus bacteraemia]</td>\n",
       "      <td>[Bacteraemia]</td>\n",
       "      <td>770483821</td>\n",
       "      <td>6</td>\n",
       "      <td>The presence of bacteria in the blood. A posit...</td>\n",
       "      <td>Key Not found</td>\n",
       "    </tr>\n",
       "    <tr>\n",
       "      <th>80</th>\n",
       "      <td>Symptoms, signs or clinical findings, not else...</td>\n",
       "      <td>Symptoms, signs or clinical findings, not else...</td>\n",
       "      <td>Plasmacytosis</td>\n",
       "      <td>[Elevated white blood cell count]</td>\n",
       "      <td>[]</td>\n",
       "      <td>[Plasmacytosis, Leukaemoid reaction, Basophili...</td>\n",
       "      <td>918298325</td>\n",
       "      <td>7</td>\n",
       "      <td>An unusually large amount of plasma cells in t...</td>\n",
       "      <td>Key Not found</td>\n",
       "    </tr>\n",
       "  </tbody>\n",
       "</table>\n",
       "</div>"
      ],
      "text/plain": [
       "                                                 root  \\\n",
       "0   Symptoms, signs or clinical findings, not else...   \n",
       "6   Symptoms, signs or clinical findings, not else...   \n",
       "40  Symptoms, signs or clinical findings, not else...   \n",
       "66  Symptoms, signs or clinical findings, not else...   \n",
       "80  Symptoms, signs or clinical findings, not else...   \n",
       "\n",
       "                                                 tree  \\\n",
       "0   Symptoms, signs or clinical findings, not else...   \n",
       "6   Symptoms, signs or clinical findings, not else...   \n",
       "40  Symptoms, signs or clinical findings, not else...   \n",
       "66  Symptoms, signs or clinical findings, not else...   \n",
       "80  Symptoms, signs or clinical findings, not else...   \n",
       "\n",
       "                                                 name  \\\n",
       "0   Symptoms, signs or clinical findings, not else...   \n",
       "6                                Enlarged lymph nodes   \n",
       "40                    Abnormal level of lead in blood   \n",
       "66                                        Bacteraemia   \n",
       "80                                      Plasmacytosis   \n",
       "\n",
       "                                              parents  \\\n",
       "0                                     [Key Not found]   \n",
       "6   [General symptoms, Symptoms of blood, blood-fo...   \n",
       "40  [Finding of abnormal level of heavy metals in ...   \n",
       "66                                      [Septicaemia]   \n",
       "80                  [Elevated white blood cell count]   \n",
       "\n",
       "                                               childs  \\\n",
       "0   [Symptoms, signs or clinical findings of blood...   \n",
       "6   [Localised lymph node enlargement, Generalised...   \n",
       "40                                                 []   \n",
       "66                [Staphylococcus aureus bacteraemia]   \n",
       "80                                                 []   \n",
       "\n",
       "                                                sibls          id  degree  \\\n",
       "0                                                  []  1843895818       1   \n",
       "6   [Abiotrophy, Autointoxication, Autotoxaemia, C...  1564691570       4   \n",
       "40                  [Abnormal level of lead in blood]  1183434772       6   \n",
       "66                                      [Bacteraemia]   770483821       6   \n",
       "80  [Plasmacytosis, Leukaemoid reaction, Basophili...   918298325       7   \n",
       "\n",
       "                                           definition  \\\n",
       "0   Clinical findings include those found using ph...   \n",
       "6   Enlarged lymph node is called lymphadenopathy ...   \n",
       "40  Abnormal level of lead in blood in those who h...   \n",
       "66  The presence of bacteria in the blood. A posit...   \n",
       "80  An unusually large amount of plasma cells in t...   \n",
       "\n",
       "                                              synonym  \n",
       "0                                       Key Not found  \n",
       "6   [swollen glands, Lymphadenopathy, adenopathy, ...  \n",
       "40                                      Key Not found  \n",
       "66                                      Key Not found  \n",
       "80                                      Key Not found  "
      ]
     },
     "execution_count": 28,
     "metadata": {},
     "output_type": "execute_result"
    }
   ],
   "source": [
    "df.head()"
   ]
  },
  {
   "cell_type": "code",
   "execution_count": 16,
   "metadata": {},
   "outputs": [
    {
     "name": "stdout",
     "output_type": "stream",
     "text": [
      "The dataset contains: \n",
      "\t--> 26279 rows \n",
      "\t--> 10 columns.\n",
      "The columns are: \n",
      "\t--> ['root', 'tree', 'name', 'parents', 'childs', 'sibls', 'id', 'degree', 'definition', 'synonym']\n",
      "\n",
      "<class 'pandas.core.frame.DataFrame'>\n",
      "RangeIndex: 68579 entries, 0 to 68578\n",
      "Data columns (total 10 columns):\n",
      " #   Column      Non-Null Count  Dtype \n",
      "---  ------      --------------  ----- \n",
      " 0   root        68579 non-null  object\n",
      " 1   tree        68579 non-null  object\n",
      " 2   name        68579 non-null  object\n",
      " 3   parents     68579 non-null  object\n",
      " 4   childs      68579 non-null  object\n",
      " 5   sibls       68579 non-null  object\n",
      " 6   id          68579 non-null  int64 \n",
      " 7   degree      68579 non-null  int64 \n",
      " 8   definition  68579 non-null  object\n",
      " 9   synonym     68579 non-null  object\n",
      "dtypes: int64(2), object(8)\n",
      "memory usage: 5.2+ MB\n",
      "None\n",
      "Column: root\n",
      "Top-3 values:\n",
      "root\n",
      "Special Views                                                         4190\n",
      "Extension Codes                                                       4182\n",
      "Injury, poisoning or certain other consequences of external causes    4152\n",
      "Name: count, dtype: object\n",
      "\n",
      "Column: tree\n",
      "Top-3 values:\n",
      "tree\n",
      "Symptoms, signs or clinical findings, not elsewhere classified                                                                                                                                   1\n",
      "Diseases of the nervous system.Movement disorders.Dystonic disorders.Secondary dystonia.Dystonia due to cerebral anoxia                                                                          1\n",
      "Diseases of the nervous system.Movement disorders.Dystonic disorders.Primary dystonia.Primary dystonia, familial.Juvenile-onset familial primary dystonia.Primary dystonia DYT1 gene mutation    1\n",
      "Name: count, dtype: object\n",
      "\n",
      "Column: name\n",
      "Top-3 values:\n",
      "name\n",
      "HIV-associated immune reconstitution inflammatory syndrome              30\n",
      "Infection due to pacemaker or implantable cardioverter defibrillator    19\n",
      "Infection due to implantable cardioverter defibrillator                 19\n",
      "Name: count, dtype: object\n",
      "\n",
      "Column: parents\n",
      "Top-3 values:\n",
      "parents\n",
      "Key Not found                                                  7159\n",
      "[HIV disease clinical stage 4 associated with tuberculosis]     151\n",
      "[HIV disease clinical stage 4 associated with malaria]          130\n",
      "Name: count, dtype: object\n",
      "\n",
      "Column: childs\n",
      "Top-3 values:\n",
      "childs\n",
      "[]                                                                                       46777\n",
      "Key Not found                                                                             7159\n",
      "[Infection due to implantable cardioverter defibrillator, Infection due to pacemaker]       19\n",
      "Name: count, dtype: object\n",
      "\n",
      "Column: sibls\n",
      "Top-3 values:\n",
      "sibls\n",
      "Key Not found                                                                                                                                                                                                                                                                                                                                                                                                                                                                                                                                                                                                                                                                                                                                                                                                                                                                                                                                                                                                                                                                                                                                                                                                                                                                                                                                                                                                                                                                                                                                                                                                                                                                                                                                                                                                                                                                                                                                                                                                                                                                                                                                                                                                                                                                                                                                                                                                                                                                                                                                                                                                                                                                                                                                                                                                                                                                                                                                                                                                                                                                                                                                                                                                                                                                                                                                                                                                                                                                                                                                                                                                                                                                                                                                                                                                                                                                                                                                                                  7159\n",
      "[Herpes simplex virus associated with human immunodeficiency virus disease associated with tuberculosis, Pneumonia due to pneumocystis associated with human immunodeficiency virus disease associated with tuberculosis, Candidosis of gastrointestinal tract associated with human immunodeficiency virus disease associated with tuberculosis, Cytomegaloviral disease associated with human immunodeficiency virus disease associated with tuberculosis, Toxoplasmosis associated with human immunodeficiency virus disease associated with tuberculosis, Disseminated cryptococcosis associated with human immunodeficiency virus disease associated with tuberculosis, Infections due to non-tuberculous mycobacteria associated with human immunodeficiency virus disease associated with tuberculosis, Progressive leukoencephalopathy associated with human immunodeficiency virus disease associated with tuberculosis, Cryptosporidiosis associated with human immunodeficiency virus disease associated with tuberculosis, Cystoisosporiasis associated with human immunodeficiency virus disease associated with tuberculosis, Neoplasms of haematopoietic or lymphoid tissues associated with human immunodeficiency virus disease associated with tuberculosis, Leishmaniasis associated with human immunodeficiency virus disease associated with tuberculosis, Kaposi sarcoma associated with human immunodeficiency virus disease associated with tuberculosis]                                                                                                                                                                                                                                                                                                                                                                                                                                                                                                                                                                                                                                                                                                                                                                                                                                                                                                                                                                                                                                                                                                                                                                                                                                                                                                                                                                                                                                                                                                                                                                                                                                                                                                                                                                                                                                                                                                                                                                                                                                                                                                                                                                                                                                                                                                                                                                                                                                                                                               151\n",
      "[Absence of fingerprints-congenital milia syndrome, Ackerman syndrome, ADULT syndrome, Amelo-cerebro-hypohidrotic syndrome, Ankyloblepharon - ectodermal defects - cleft lip or palate, AREDYLD syndrome, Beare-Stevenson cutis gyrata syndrome, Blepharocheilodontic syndrome, Book syndrome, Cardio-facio-cutaneous syndrome, Cerebellar ataxia - ectodermal dysplasia, Curly hair – ankyloblepharon – nail dysplasia syndrome, Choroidal atrophy - alopecia, Coffin-Siris syndrome, Conductive deafness - ptosis - skeletal anomalies, Contractures - ectodermal dysplasia - cleft lip or palate, Cote-Katsantoni syndrome, Cranioectodermal dysplasia, Dahlberg-Borer-Newcomer syndrome, Dermatoosteolysis, Kirghizian type, Dubowitz syndrome, Ectodermal dysplasia - absent dermatoglyphs, Ectodermal dysplasia - acanthosis nigricans, Ectodermal dysplasia - arthrogryposis - diabetes mellitus, Ectodermal dysplasia - blindness, Ectodermal dysplasia - cutaneous syndactyly syndrome, Ectodermal dysplasia - ectrodactyly - macular dystrophy, Ectodermal dysplasia - intellectual deficit - central nervous system malformation, Ectodermal dysplasia - sensorineural deafness, Ectodermal dysplasia - syndactyly syndrome, Ectodermal dysplasia with natal teeth, Turnpenny type, Ectodermal dysplasia, pure hair-nail type, Ectodermal dysplasia, Berlin type, Ectrodactyly - ectodermal dysplasia - cleft lip or palate, Ectrodactyly - ectodermal dysplasia without clefting, Facial ectodermal dysplasia, Focal facial dermal dysplasia, GAPO syndrome, Gingival fibromatosis - hypertrichosis, Gorlin-Chaudhry-Moss syndrome, Hidrotic ectodermal dysplasia, Christianson-Fourie type, Hidrotic ectodermal dysplasia, Halal type, Hypertrichosis cubiti - short stature, Hypoparathyroidism - deafness - renal disease, Ichthyosis - alopecia - eclabion - ectropion - intellectual deficit, Johanson-Blizzard syndrome, Johnson neuroectodermal syndrome, Juvenile macular degeneration - hypotrichosis, Lacrimo-auriculo-dento-digital syndrome, Limb-mammary syndrome, Marshall syndrome, Naegeli-Franceschetti-Jadassohn syndrome, Oculo-dento-digital dysplasia, Oculo-osteo-cutaneous syndrome, Odonto-tricho-ungual-digito-palmar syndrome, Odontotrichomelic syndrome, OL-EDA-ID syndrome, Oligodontia - cancer predisposition syndrome, Pilodental dysplasia - refractive errors, Rapp-Hodgkin syndrome, Scalp-ear-nipple syndrome, Schinzel-Giedion syndrome, Sparse hair - short stature - skin anomalies, Stern-Lubinsky-Durrie syndrome, Taurodontia - absent teeth - sparse hair, Toriello-Lacassie-Droste syndrome, Tricho-dento-osseous syndrome, Tricho-oculo-dermo-vertebral syndrome, Tricho-odonto-onychial dysplasia with bone deficiency in fronto-parietal region, Tricho-odonto-onychial ectodermal dysplasia, Tricho-retino-dento-digital syndrome, Trichodental syndrome, Trichodermodysplasia - dental alterations, Trichodysplasia - amelogenesis imperfecta, Trichomegaly - cataract - hereditary spherocytosis, Trichomegaly - retina pigmentary degeneration - dwarfism, Xeroderma - talipes - enamel defects, Zlotogora-Ogur syndrome, Zunich-Kaye syndrome, Dermo-odontodysplasia, Oculotrichodysplasia, Solitary median maxillary central incisor syndrome, Cartilage-hair hypoplasia, Trichorhinophalangeal syndrome type 1 and 3, Langer-Giedion syndrome, Chondroectodermal dysplasia, Oral-facial-digital syndrome, Cronkhite-Canada syndrome, Hypohidrotic ectodermal dysplasia, Rothmund-Thomson syndrome, Hallermann-Streiff-François syndrome, Keratitis – ichthyosis – deafness syndrome, Papillon-Lefèvre syndrome, Hidrotic ectodermal dysplasia, Clouston type, Odonto-onycho-dermal dysplasia, Woolly hair – hypotrichosis – everted lower lip – outstanding ears, Autosomal dominant palmoplantar keratoderma and congenital alopecia, BIDS syndrome, IBIDS syndrome, Sabinas brittle hair syndrome, ...]     132\n",
      "Name: count, dtype: object\n",
      "\n",
      "Column: id\n",
      "Top-3 values:\n",
      "id\n",
      "647697202     30\n",
      "1871888610    19\n",
      "1392805517    19\n",
      "Name: count, dtype: object\n",
      "\n",
      "Column: degree\n",
      "Top-3 values:\n",
      "degree\n",
      "6    18124\n",
      "5    17248\n",
      "7    11852\n",
      "Name: count, dtype: object\n",
      "\n",
      "Column: definition\n",
      "Top-3 values:\n",
      "definition\n",
      "Key Not found                                                           42300\n",
      "Code also additional code, if desired, to identify specific drug          107\n",
      "Infection with HIV and tuberculosis - no causal relationship implied       48\n",
      "Name: count, dtype: object\n",
      "\n",
      "Column: synonym\n",
      "Top-3 values:\n",
      "synonym\n",
      "Key Not found                                                                                                                                                                 48680\n",
      "[Immune reconstitution inflammatory syndrome [IRIS], HIV-associated, HIV - [human immunodeficiency virus] associated IRIS - [Immune reconstitution inflammatory syndrome]]       30\n",
      "[Seborrhoeic dermatitis associated with HIV infection]                                                                                                                           16\n",
      "Name: count, dtype: object\n",
      "\n"
     ]
    }
   ],
   "source": [
    "inspect(df)"
   ]
  },
  {
   "cell_type": "markdown",
   "metadata": {},
   "source": [
    "Next, we look at how our NA values and ratio have changed."
   ]
  },
  {
   "cell_type": "code",
   "execution_count": 17,
   "metadata": {},
   "outputs": [
    {
     "name": "stdout",
     "output_type": "stream",
     "text": [
      "Column: sibls\n",
      "Number of missing values: 0\n",
      "Ratio of missing values: 0.000\n",
      "\n",
      "Column: definition\n",
      "Number of missing values: 0\n",
      "Ratio of missing values: 0.000\n",
      "\n",
      "Column: synonym\n",
      "Number of missing values: 14790\n",
      "Ratio of missing values: 0.563\n",
      "\n"
     ]
    }
   ],
   "source": [
    "na_inspect(df)"
   ]
  },
  {
   "cell_type": "code",
   "execution_count": 19,
   "metadata": {},
   "outputs": [
    {
     "data": {
      "text/plain": [
       "(13136,)"
      ]
     },
     "execution_count": 19,
     "metadata": {},
     "output_type": "execute_result"
    }
   ],
   "source": [
    "df.name.unique().shape"
   ]
  },
  {
   "cell_type": "code",
   "execution_count": 20,
   "metadata": {},
   "outputs": [
    {
     "data": {
      "text/plain": [
       "(12916,)"
      ]
     },
     "execution_count": 20,
     "metadata": {},
     "output_type": "execute_result"
    }
   ],
   "source": [
    "df.definition.unique().shape"
   ]
  },
  {
   "cell_type": "code",
   "execution_count": 27,
   "metadata": {},
   "outputs": [
    {
     "name": "stdout",
     "output_type": "stream",
     "text": [
      "Name: Enlarged lymph nodes\n",
      "Definition: Enlarged lymph node is called lymphadenopathy which means the abnormal enlargement of lymph nodes.\n",
      "\n",
      "Name: Abnormal level of lead in blood\n",
      "Definition: Abnormal level of lead in blood in those who have been exposed to lead and who require management.\n",
      "\n",
      "Name: Bacteraemia\n",
      "Definition: The presence of bacteria in the blood. A positive blood culture without signs of infection.\n",
      "\n",
      "Name: Plasmacytosis\n",
      "Definition: An unusually large amount of plasma cells in tissues, exudates or blood.\n",
      "\n",
      "Name: Basophilia\n",
      "Definition: A condition in which there is an abnormal increase in the number of basophils in the blood.\n",
      "\n",
      "Name: Bandaemia\n",
      "Definition: An excess of immature white blood cells in the blood which signifies an infection or inflammation.\n",
      "\n",
      "Name: Abnormal glucose tolerance test\n",
      "Definition: Greater than normal levels of glucose found in laboratory examination of the blood to check how the body breaks down (metabolizes) blood sugar. Positive findings may indicate diabetes or Cushing diseases, among other things.\n",
      "\n",
      "Name: Overeating\n",
      "Definition: The consumption of excess food in relation to energy and nutritional requirements.\n",
      "\n",
      "Name: Excessive weight loss\n",
      "Definition: A reduction of total body mass, due to loss of fluid, body fat or adipose tissue, or lean (muscle) mass that is sufficient in quantity or rate to create risk to the individualâ€™s health.\n",
      "\n"
     ]
    }
   ],
   "source": [
    "# print name and definition of the first 10 entries:\n",
    "for i in df.index[1:10]:\n",
    "    print(f\"Name: {df.name[i]}\")\n",
    "    print(f\"Definition: {df.definition[i]}\\n\")"
   ]
  }
 ],
 "metadata": {
  "kernelspec": {
   "display_name": "env",
   "language": "python",
   "name": "python3"
  },
  "language_info": {
   "codemirror_mode": {
    "name": "ipython",
    "version": 3
   },
   "file_extension": ".py",
   "mimetype": "text/x-python",
   "name": "python",
   "nbconvert_exporter": "python",
   "pygments_lexer": "ipython3",
   "version": "3.11.6"
  }
 },
 "nbformat": 4,
 "nbformat_minor": 2
}
